{
 "cells": [
  {
   "cell_type": "markdown",
   "metadata": {},
   "source": [
    "# Setup the database\n",
    "\n",
    "The three scraper notebooks produced poetry data which I stored in both .csv and .pkl form.  However, I'd like to store the data in a SQL database, partly in order to safeguard the data, partly in order to establish a scalable workflow.  This notebook sets up a PostgresSQL database, and stores the data in it.  "
   ]
  },
  {
   "cell_type": "markdown",
   "metadata": {},
   "source": [
    "**Path, file, and other names**"
   ]
  },
  {
   "cell_type": "code",
   "execution_count": 10,
   "metadata": {},
   "outputs": [],
   "source": [
    "dbname = 'poetry_db'           # name of database\n",
    "username = 'ctoews'            # user\n",
    "datadir = \"../data/poems/pkl\"  # directory with the data we'll be databasing\n",
    "df_name1 = \"famouspoets_clean\" # root names scraped and cleaned data \n",
    "df_name2 = \"poetsorg_clean\"    # \n",
    "df_name3 = \"top100_clean\""
   ]
  },
  {
   "cell_type": "markdown",
   "metadata": {},
   "source": [
    "**Import statements**"
   ]
  },
  {
   "cell_type": "code",
   "execution_count": 2,
   "metadata": {},
   "outputs": [],
   "source": [
    "from sqlalchemy import create_engine\n",
    "from sqlalchemy_utils import database_exists, create_database\n",
    "import pandas as pd"
   ]
  },
  {
   "cell_type": "markdown",
   "metadata": {},
   "source": [
    "**Create DB (if it doesn't exist)**"
   ]
  },
  {
   "cell_type": "code",
   "execution_count": 3,
   "metadata": {},
   "outputs": [
    {
     "name": "stdout",
     "output_type": "stream",
     "text": [
      "postgres://ctoews@localhost/poetry_db\n"
     ]
    }
   ],
   "source": [
    "## 'engine' is a connection to a database.  This command doesn't actually try to connect.\n",
    "engine = create_engine('postgres://%s@localhost/%s'%(username,dbname))\n",
    "print(engine.url)"
   ]
  },
  {
   "cell_type": "code",
   "execution_count": 4,
   "metadata": {},
   "outputs": [
    {
     "name": "stdout",
     "output_type": "stream",
     "text": [
      "The database postgres://ctoews@localhost/poetry_db already exists! \n"
     ]
    }
   ],
   "source": [
    "## create a database (if it doesn't exist)\n",
    "if not database_exists(engine.url):\n",
    "    create_database(engine.url)\n",
    "    print(\"Creating database {}\".format(engine.url))\n",
    "else:\n",
    "    print(\"The database {} already exists! \".format(engine.url))"
   ]
  },
  {
   "cell_type": "markdown",
   "metadata": {},
   "source": [
    "**Load the binary poetry data**"
   ]
  },
  {
   "cell_type": "code",
   "execution_count": 5,
   "metadata": {},
   "outputs": [],
   "source": [
    "df1 = pd.read_pickle(datadir + '/' + df_name1 + '.pkl')\n",
    "df2 = pd.read_pickle(datadir + '/' + df_name2 + '.pkl')\n",
    "df3 = pd.read_pickle(datadir + '/' + df_name3 + '.pkl')"
   ]
  },
  {
   "cell_type": "markdown",
   "metadata": {},
   "source": [
    "**Store data to postgres using pandas built-in functionality**"
   ]
  },
  {
   "cell_type": "code",
   "execution_count": 6,
   "metadata": {},
   "outputs": [],
   "source": [
    "df1.to_sql(df_name1, engine, if_exists='replace')\n",
    "df2.to_sql(df_name2, engine, if_exists='replace')\n",
    "df3.to_sql(df_name3, engine, if_exists='replace')"
   ]
  }
 ],
 "metadata": {
  "kernelspec": {
   "display_name": "Python 3",
   "language": "python",
   "name": "python3"
  },
  "language_info": {
   "codemirror_mode": {
    "name": "ipython",
    "version": 3
   },
   "file_extension": ".py",
   "mimetype": "text/x-python",
   "name": "python",
   "nbconvert_exporter": "python",
   "pygments_lexer": "ipython3",
   "version": "3.6.4"
  }
 },
 "nbformat": 4,
 "nbformat_minor": 2
}
