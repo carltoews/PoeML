{
 "cells": [
  {
   "cell_type": "markdown",
   "metadata": {},
   "source": [
    "# PoeML_scraper\n",
    "\n",
    "At the heart of this project is a corpus of poems.  I was unable to find a decent database of modern, short verse, and so decided to scrape my own set of poems from various websites.  Specifically, I scraped poems from:\n",
    "\n",
    "www.poets.org (mostly relatively modern, sophisticated, complex poems)  \n",
    "www.poemhunter.com (a wildly diverse set of poems from many different eras)   \n",
    "www.poetrysoup.com (from here I took the list \"Top 100 Famous Poems\"  \n",
    "\n",
    "Of course the rub is that in order to have a well-functioning recommender system, the poems should be stylistically \"suited\" to the task.  Really that requires some custom curating:  my taste is not yours, and the \"matches\" will be more satisfying if the underlying set of poems is palatable.  For this project, I'll end up focusing on modern, short poems and hope for the best, but this is a good example of a project for which at least some \"human in the loop\" could make a big difference.  \n",
    "\n",
    "----"
   ]
  },
  {
   "cell_type": "markdown",
   "metadata": {},
   "source": [
    "## Part I:  www.poets.org\n",
    "\n",
    "\n",
    "The poems on this site are not directly labeled, but it is possible to browse them by theme.  This script scrolls through all of the themes, and scrapes all the resultant poems.  Some poems belong to more than one theme, and are thus included multiple times in the resulting dataset, once for each theme-word.\n",
    "\n",
    "The script takes a while to run (on the order of hours.)  For a shorter run time, edit the list of themes and only scrape themes of interest.\n",
    "\n",
    "**Gather theme labels**\n",
    "\n",
    "Import statements"
   ]
  },
  {
   "cell_type": "code",
   "execution_count": 1,
   "metadata": {},
   "outputs": [],
   "source": [
    "from bs4 import BeautifulSoup\n",
    "import numpy as np\n",
    "import requests\n",
    "import pandas as pd\n",
    "import matplotlib\n",
    "from matplotlib import pyplot as plt\n",
    "import os\n",
    "%matplotlib inline"
   ]
  },
  {
   "cell_type": "markdown",
   "metadata": {},
   "source": [
    "Establish connection to landing page at www.poets.org"
   ]
  },
  {
   "cell_type": "code",
   "execution_count": 2,
   "metadata": {},
   "outputs": [],
   "source": [
    "main = requests.get(\"https://www.poets.org/poetsorg/poems\")\n",
    "main_soup = BeautifulSoup(main.text,'lxml') "
   ]
  },
  {
   "cell_type": "markdown",
   "metadata": {},
   "source": [
    "Scrape urls of landing page for each theme "
   ]
  },
  {
   "cell_type": "code",
   "execution_count": 3,
   "metadata": {},
   "outputs": [
    {
     "data": {
      "text/html": [
       "<div>\n",
       "<style scoped>\n",
       "    .dataframe tbody tr th:only-of-type {\n",
       "        vertical-align: middle;\n",
       "    }\n",
       "\n",
       "    .dataframe tbody tr th {\n",
       "        vertical-align: top;\n",
       "    }\n",
       "\n",
       "    .dataframe thead th {\n",
       "        text-align: right;\n",
       "    }\n",
       "</style>\n",
       "<table border=\"1\" class=\"dataframe\">\n",
       "  <thead>\n",
       "    <tr style=\"text-align: right;\">\n",
       "      <th></th>\n",
       "      <th>url</th>\n",
       "      <th>theme</th>\n",
       "    </tr>\n",
       "  </thead>\n",
       "  <tbody>\n",
       "    <tr>\n",
       "      <th>0</th>\n",
       "      <td>/poetsorg/poems?field_poem_themes_tid=851</td>\n",
       "      <td>Afterlife</td>\n",
       "    </tr>\n",
       "    <tr>\n",
       "      <th>1</th>\n",
       "      <td>/poetsorg/poems?field_poem_themes_tid=856</td>\n",
       "      <td>Aging</td>\n",
       "    </tr>\n",
       "    <tr>\n",
       "      <th>2</th>\n",
       "      <td>/poetsorg/poems?field_poem_themes_tid=861</td>\n",
       "      <td>Ambition</td>\n",
       "    </tr>\n",
       "    <tr>\n",
       "      <th>3</th>\n",
       "      <td>/poetsorg/poems?field_poem_themes_tid=866</td>\n",
       "      <td>America</td>\n",
       "    </tr>\n",
       "    <tr>\n",
       "      <th>4</th>\n",
       "      <td>/poetsorg/poems?field_poem_themes_tid=871</td>\n",
       "      <td>American Revolution</td>\n",
       "    </tr>\n",
       "    <tr>\n",
       "      <th>5</th>\n",
       "      <td>/poetsorg/poems?field_poem_themes_tid=1691</td>\n",
       "      <td>Americana</td>\n",
       "    </tr>\n",
       "    <tr>\n",
       "      <th>6</th>\n",
       "      <td>/poetsorg/poems?field_poem_themes_tid=876</td>\n",
       "      <td>Ancestry</td>\n",
       "    </tr>\n",
       "    <tr>\n",
       "      <th>7</th>\n",
       "      <td>/poetsorg/poems?field_poem_themes_tid=881</td>\n",
       "      <td>Anger</td>\n",
       "    </tr>\n",
       "    <tr>\n",
       "      <th>8</th>\n",
       "      <td>/poetsorg/poems?field_poem_themes_tid=886</td>\n",
       "      <td>Animals</td>\n",
       "    </tr>\n",
       "    <tr>\n",
       "      <th>9</th>\n",
       "      <td>/poetsorg/poems?field_poem_themes_tid=1531</td>\n",
       "      <td>Anxiety</td>\n",
       "    </tr>\n",
       "    <tr>\n",
       "      <th>10</th>\n",
       "      <td>/poetsorg/poems?field_poem_themes_tid=891</td>\n",
       "      <td>Apocalypse</td>\n",
       "    </tr>\n",
       "    <tr>\n",
       "      <th>11</th>\n",
       "      <td>/poetsorg/poems?field_poem_themes_tid=896</td>\n",
       "      <td>Audio</td>\n",
       "    </tr>\n",
       "    <tr>\n",
       "      <th>12</th>\n",
       "      <td>/poetsorg/poems?field_poem_themes_tid=901</td>\n",
       "      <td>Beauty</td>\n",
       "    </tr>\n",
       "    <tr>\n",
       "      <th>13</th>\n",
       "      <td>/poetsorg/poems?field_poem_themes_tid=906</td>\n",
       "      <td>Beginning</td>\n",
       "    </tr>\n",
       "    <tr>\n",
       "      <th>14</th>\n",
       "      <td>/poetsorg/poems?field_poem_themes_tid=911</td>\n",
       "      <td>Birds</td>\n",
       "    </tr>\n",
       "  </tbody>\n",
       "</table>\n",
       "</div>"
      ],
      "text/plain": [
       "                                           url                theme\n",
       "0    /poetsorg/poems?field_poem_themes_tid=851            Afterlife\n",
       "1    /poetsorg/poems?field_poem_themes_tid=856                Aging\n",
       "2    /poetsorg/poems?field_poem_themes_tid=861             Ambition\n",
       "3    /poetsorg/poems?field_poem_themes_tid=866              America\n",
       "4    /poetsorg/poems?field_poem_themes_tid=871  American Revolution\n",
       "5   /poetsorg/poems?field_poem_themes_tid=1691            Americana\n",
       "6    /poetsorg/poems?field_poem_themes_tid=876             Ancestry\n",
       "7    /poetsorg/poems?field_poem_themes_tid=881                Anger\n",
       "8    /poetsorg/poems?field_poem_themes_tid=886              Animals\n",
       "9   /poetsorg/poems?field_poem_themes_tid=1531              Anxiety\n",
       "10   /poetsorg/poems?field_poem_themes_tid=891           Apocalypse\n",
       "11   /poetsorg/poems?field_poem_themes_tid=896                Audio\n",
       "12   /poetsorg/poems?field_poem_themes_tid=901               Beauty\n",
       "13   /poetsorg/poems?field_poem_themes_tid=906            Beginning\n",
       "14   /poetsorg/poems?field_poem_themes_tid=911                Birds"
      ]
     },
     "execution_count": 3,
     "metadata": {},
     "output_type": "execute_result"
    }
   ],
   "source": [
    "theme_urls = []\n",
    "for theme in main_soup.find_all('div',class_=\"themes\")[0].find_all('li'):\n",
    "    theme_url = theme.contents[0].get('href')\n",
    "    theme_name = theme.get_text()\n",
    "    theme_urls.append([theme_url,theme_name])\n",
    "    \n",
    "df_themes = pd.DataFrame(theme_urls,columns=['url','theme'])\n",
    "df_themes[0:15]"
   ]
  },
  {
   "cell_type": "markdown",
   "metadata": {},
   "source": [
    "*Audio* as actually not a theme...it just means that there is an audio recording of this poem.  Since this fact is irrelevant for this classification scheme, we'll drop that row.  Ditto for *Public domain*."
   ]
  },
  {
   "cell_type": "code",
   "execution_count": 6,
   "metadata": {},
   "outputs": [],
   "source": [
    "df_themes = df_themes.loc[(df_themes.theme != 'Audio') & (df_themes.theme != 'Public Domain'),:]"
   ]
  },
  {
   "cell_type": "markdown",
   "metadata": {},
   "source": [
    "*Optional:* Scrape url of landing page for each occasion. (I didn't actually use these, but someone might want to, so I've kept the code here.)"
   ]
  },
  {
   "cell_type": "code",
   "execution_count": 7,
   "metadata": {},
   "outputs": [
    {
     "data": {
      "text/html": [
       "<div>\n",
       "<style scoped>\n",
       "    .dataframe tbody tr th:only-of-type {\n",
       "        vertical-align: middle;\n",
       "    }\n",
       "\n",
       "    .dataframe tbody tr th {\n",
       "        vertical-align: top;\n",
       "    }\n",
       "\n",
       "    .dataframe thead th {\n",
       "        text-align: right;\n",
       "    }\n",
       "</style>\n",
       "<table border=\"1\" class=\"dataframe\">\n",
       "  <thead>\n",
       "    <tr style=\"text-align: right;\">\n",
       "      <th></th>\n",
       "      <th>url</th>\n",
       "      <th>occasion</th>\n",
       "    </tr>\n",
       "  </thead>\n",
       "  <tbody>\n",
       "    <tr>\n",
       "      <th>0</th>\n",
       "      <td>/poetsorg/poems?field_occasion_tid=476</td>\n",
       "      <td>Anniversary</td>\n",
       "    </tr>\n",
       "    <tr>\n",
       "      <th>1</th>\n",
       "      <td>/poetsorg/poems?field_occasion_tid=1671</td>\n",
       "      <td>Asian/Pacific American Heritage Month</td>\n",
       "    </tr>\n",
       "    <tr>\n",
       "      <th>2</th>\n",
       "      <td>/poetsorg/poems?field_occasion_tid=484</td>\n",
       "      <td>Autumn</td>\n",
       "    </tr>\n",
       "    <tr>\n",
       "      <th>3</th>\n",
       "      <td>/poetsorg/poems?field_occasion_tid=478</td>\n",
       "      <td>Birthdays</td>\n",
       "    </tr>\n",
       "    <tr>\n",
       "      <th>4</th>\n",
       "      <td>/poetsorg/poems?field_occasion_tid=1501</td>\n",
       "      <td>Black History Month</td>\n",
       "    </tr>\n",
       "  </tbody>\n",
       "</table>\n",
       "</div>"
      ],
      "text/plain": [
       "                                       url  \\\n",
       "0   /poetsorg/poems?field_occasion_tid=476   \n",
       "1  /poetsorg/poems?field_occasion_tid=1671   \n",
       "2   /poetsorg/poems?field_occasion_tid=484   \n",
       "3   /poetsorg/poems?field_occasion_tid=478   \n",
       "4  /poetsorg/poems?field_occasion_tid=1501   \n",
       "\n",
       "                                occasion  \n",
       "0                            Anniversary  \n",
       "1  Asian/Pacific American Heritage Month  \n",
       "2                                 Autumn  \n",
       "3                              Birthdays  \n",
       "4                    Black History Month  "
      ]
     },
     "execution_count": 7,
     "metadata": {},
     "output_type": "execute_result"
    }
   ],
   "source": [
    "occasion_urls = []\n",
    "for occasion in main_soup.find_all('div',class_=\"occasions\")[0].find_all('li'):\n",
    "    occasion_url = occasion.contents[0].get('href')\n",
    "    occasion_name = occasion.get_text()\n",
    "    occasion_urls.append([occasion_url,occasion_name])\n",
    "    \n",
    "df_occasions = pd.DataFrame(occasion_urls,columns=['url','occasion'])\n",
    "df_occasions.head()"
   ]
  },
  {
   "cell_type": "markdown",
   "metadata": {},
   "source": [
    "**Gather the urls of all poems for each theme**\n",
    "\n",
    "Now build a master list of poem/theme combinations.  This involves some clever webscraping...for each theme, the results are displayed in a variable number of pages.  We need to figure out the number of pages, and use that number to predict the urls of the pages listing poems ('landing pages').  Once we have these landing pages, we scrape poem info from them.\n",
    "\n",
    "In order to implement this scheme, we'll need a helper function that returns the individual poem urls from each landing subpage for a given theme."
   ]
  },
  {
   "cell_type": "code",
   "execution_count": 8,
   "metadata": {},
   "outputs": [],
   "source": [
    "def get_poem_urls(landing_page_url,theme):\n",
    "    '''assemble list of poems from a landing page''' \n",
    "    year_title_url_poet_theme = []\n",
    "    main = requests.get(landing_page_url)\n",
    "    main_soup = BeautifulSoup(main.text,'lxml') \n",
    "    odd_entries = main_soup.find_all('tr', class_=\"odd\")\n",
    "    even_entries = main_soup.find_all('tr', class_=\"even\")\n",
    "    all_entries = odd_entries + even_entries\n",
    "    for entry in all_entries:\n",
    "        year = entry.find('span',class_=\"date-display-single\")\n",
    "        if year:\n",
    "            year = year.get_text()\n",
    "        else:\n",
    "            year = ''\n",
    "        titleblob = entry.find('td',class_=\"views-field views-field-title\")\n",
    "        title = titleblob.a.get_text()\n",
    "        poem_url = titleblob.a.get('href')\n",
    "        poet = entry.find('td',class_=\"views-field views-field-field-first-name\")\n",
    "        if poet.find('a'):\n",
    "            poet = poet.a.get_text()\n",
    "        else:\n",
    "            poet = ''\n",
    "        year_title_url_poet_theme.append([year,title,poem_url,poet,theme])\n",
    "\n",
    "    return year_title_url_poet_theme"
   ]
  },
  {
   "cell_type": "markdown",
   "metadata": {},
   "source": [
    "We'll also need to write to files.  The following functions provide a little error checking to make sure we don't overwrite stuff."
   ]
  },
  {
   "cell_type": "code",
   "execution_count": 9,
   "metadata": {},
   "outputs": [],
   "source": [
    "def modify_filename(filename):\n",
    "    \"\"\"Add .bak suffix to string \"\"\"\n",
    "    return filename + '.bak'\n",
    "\n",
    "def check_filename(filename):\n",
    "    \"\"\"If file that we're going to write to already exists, resave it with a .bak extension\"\"\"\n",
    "    if os.path.isfile(filename):\n",
    "        filename_mod = modify_filename(filename)\n",
    "        while os.path.isfile(filename_mod):\n",
    "            filename_mod = modify_filename(filename_mod)\n",
    "        os.rename(filename,filename_mod)"
   ]
  },
  {
   "cell_type": "markdown",
   "metadata": {},
   "source": [
    "Now we'll simply crawl along each theme, and for each theme crawl along each page, and for each page grab all the poem info.  To manage store, we'll write the output for each page to a file as we go along.\n",
    "\n",
    "<span style=\"color:red\"> Caution:</span> this cell takes a while to run (on the order of half an hour for all themes, but it goes much faster for just a subset.)"
   ]
  },
  {
   "cell_type": "code",
   "execution_count": 10,
   "metadata": {},
   "outputs": [
    {
     "name": "stdout",
     "output_type": "stream",
     "text": [
      "theme:   Cities\n",
      "theme:   Love\n",
      "theme:   Nature\n"
     ]
    }
   ],
   "source": [
    "# define output file, and rename if it already exists\n",
    "outfile = 'temp.csv'\n",
    "check_filename(outfile)\n",
    "\n",
    "# comment this section out if you want all themes\n",
    "theme_subset = ['Cities','Nature','Love']\n",
    "#theme_subset = themes.theme[0:2].tolist()\n",
    "df_themes = df_themes.loc[df_themes.theme.isin(theme_subset)]\n",
    "\n",
    "# for each theme....\n",
    "for index, row in df_themes.iterrows():\n",
    "    url='https://www.poets.org'+row['url']\n",
    "    theme = row['theme']\n",
    "    \n",
    "    # ...figure out how many pages of output there are\n",
    "    main = requests.get(url)\n",
    "    main_soup = BeautifulSoup(main.text,'lxml') \n",
    "    npages=main_soup.find('li',class_=\"pager-item last\")\n",
    "    if npages:\n",
    "        npages = npages.get_text()\n",
    "    else:\n",
    "        npages=main_soup.find('li',class_=\"pager-last last\")\n",
    "        if npages:\n",
    "            npages = npages = npages.get_text()\n",
    "        else:\n",
    "            npages = 1\n",
    "    npages_int = int(npages)\n",
    "    \n",
    "    # then extract the urls for each page, and print the theme for monitoring\n",
    "    page_urls = [url, theme]\n",
    "    print('theme:  ',theme)\n",
    "    \n",
    "    # then run over each such page and get the poem urls\n",
    "    for i in np.arange(1,npages_int):\n",
    "        page_url = url + \"&page=\" + str(i)\n",
    "        page_content = get_poem_urls(page_url,theme)\n",
    "        df_page = pd.DataFrame(page_content,columns=['year','title','url','author','theme'])\n",
    "        \n",
    "        # writing to disc after each page.\n",
    "        with open(outfile, 'a') as f:\n",
    "            df_page.to_csv(f, header=False,index=False)"
   ]
  },
  {
   "cell_type": "markdown",
   "metadata": {},
   "source": [
    "Finally, turn all this info into a data frame and save it as a pickle file. "
   ]
  },
  {
   "cell_type": "code",
   "execution_count": 11,
   "metadata": {},
   "outputs": [
    {
     "data": {
      "text/html": [
       "<div>\n",
       "<style scoped>\n",
       "    .dataframe tbody tr th:only-of-type {\n",
       "        vertical-align: middle;\n",
       "    }\n",
       "\n",
       "    .dataframe tbody tr th {\n",
       "        vertical-align: top;\n",
       "    }\n",
       "\n",
       "    .dataframe thead th {\n",
       "        text-align: right;\n",
       "    }\n",
       "</style>\n",
       "<table border=\"1\" class=\"dataframe\">\n",
       "  <thead>\n",
       "    <tr style=\"text-align: right;\">\n",
       "      <th></th>\n",
       "      <th>year</th>\n",
       "      <th>title</th>\n",
       "      <th>url</th>\n",
       "      <th>author</th>\n",
       "      <th>theme</th>\n",
       "    </tr>\n",
       "  </thead>\n",
       "  <tbody>\n",
       "    <tr>\n",
       "      <th>0</th>\n",
       "      <td>1917.0</td>\n",
       "      <td>Dawn</td>\n",
       "      <td>/poetsorg/poem/dawn-2</td>\n",
       "      <td>John Gould Fletcher</td>\n",
       "      <td>Cities</td>\n",
       "    </tr>\n",
       "    <tr>\n",
       "      <th>1</th>\n",
       "      <td>2017.0</td>\n",
       "      <td>Daily Conscription</td>\n",
       "      <td>/poetsorg/poem/daily-conscription</td>\n",
       "      <td>Kyle Dargan</td>\n",
       "      <td>Cities</td>\n",
       "    </tr>\n",
       "    <tr>\n",
       "      <th>2</th>\n",
       "      <td>1920.0</td>\n",
       "      <td>Recuerdo</td>\n",
       "      <td>/poetsorg/poem/recuerdo-0</td>\n",
       "      <td>Edna St. Vincent Millay</td>\n",
       "      <td>Cities</td>\n",
       "    </tr>\n",
       "    <tr>\n",
       "      <th>3</th>\n",
       "      <td>1917.0</td>\n",
       "      <td>[Immortal?... No,]</td>\n",
       "      <td>/poetsorg/poem/immortal-no</td>\n",
       "      <td>F. S. Flint</td>\n",
       "      <td>Cities</td>\n",
       "    </tr>\n",
       "    <tr>\n",
       "      <th>4</th>\n",
       "      <td>2017.0</td>\n",
       "      <td>from “The Last Bohemian of Avenue A”</td>\n",
       "      <td>/poetsorg/poem/last-bohemian-avenue</td>\n",
       "      <td>Yusef Komunyakaa</td>\n",
       "      <td>Cities</td>\n",
       "    </tr>\n",
       "  </tbody>\n",
       "</table>\n",
       "</div>"
      ],
      "text/plain": [
       "     year                                 title  \\\n",
       "0  1917.0                                  Dawn   \n",
       "1  2017.0                   Daily Conscription    \n",
       "2  1920.0                              Recuerdo   \n",
       "3  1917.0                    [Immortal?... No,]   \n",
       "4  2017.0  from “The Last Bohemian of Avenue A”   \n",
       "\n",
       "                                   url                   author   theme  \n",
       "0                /poetsorg/poem/dawn-2      John Gould Fletcher  Cities  \n",
       "1    /poetsorg/poem/daily-conscription              Kyle Dargan  Cities  \n",
       "2            /poetsorg/poem/recuerdo-0  Edna St. Vincent Millay  Cities  \n",
       "3           /poetsorg/poem/immortal-no              F. S. Flint  Cities  \n",
       "4  /poetsorg/poem/last-bohemian-avenue         Yusef Komunyakaa  Cities  "
      ]
     },
     "execution_count": 11,
     "metadata": {},
     "output_type": "execute_result"
    }
   ],
   "source": [
    "df_poetsorg_urls = pd.read_csv(outfile,names=['year','title','url','author','theme'])\n",
    "df_poetsorg_urls.to_pickle('poetsorg_urls.pkl')\n",
    "df_poetsorg_urls.to_csv('poetsorg_urls.csv',index=False)\n",
    "df_poetsorg_urls.head()"
   ]
  },
  {
   "cell_type": "markdown",
   "metadata": {},
   "source": [
    "**Drop redundant poems**\n",
    "\n",
    "Some poems belong to more than one theme.  It makes no sense to re-scrape them.  So we need to re-arrange the data a bit.  We'll gather it by URL, and store themes as a list."
   ]
  },
  {
   "cell_type": "code",
   "execution_count": 12,
   "metadata": {},
   "outputs": [
    {
     "data": {
      "text/html": [
       "<div>\n",
       "<style scoped>\n",
       "    .dataframe tbody tr th:only-of-type {\n",
       "        vertical-align: middle;\n",
       "    }\n",
       "\n",
       "    .dataframe tbody tr th {\n",
       "        vertical-align: top;\n",
       "    }\n",
       "\n",
       "    .dataframe thead th {\n",
       "        text-align: right;\n",
       "    }\n",
       "</style>\n",
       "<table border=\"1\" class=\"dataframe\">\n",
       "  <thead>\n",
       "    <tr style=\"text-align: right;\">\n",
       "      <th></th>\n",
       "      <th>url</th>\n",
       "      <th>themes</th>\n",
       "    </tr>\n",
       "  </thead>\n",
       "  <tbody>\n",
       "    <tr>\n",
       "      <th>0</th>\n",
       "      <td>/poetsorg/poem/%E2%80%9Cflying-point%E2%80%9D</td>\n",
       "      <td>[Nature]</td>\n",
       "    </tr>\n",
       "    <tr>\n",
       "      <th>1</th>\n",
       "      <td>/poetsorg/poem/%E2%80%9Cyou-are-nearly-every-f...</td>\n",
       "      <td>[Cities]</td>\n",
       "    </tr>\n",
       "    <tr>\n",
       "      <th>2</th>\n",
       "      <td>/poetsorg/poem/1-corinthians-134%E2%80%937</td>\n",
       "      <td>[Love]</td>\n",
       "    </tr>\n",
       "    <tr>\n",
       "      <th>3</th>\n",
       "      <td>/poetsorg/poem/3-bewildered-landscapes%E2%80%9D</td>\n",
       "      <td>[Nature]</td>\n",
       "    </tr>\n",
       "    <tr>\n",
       "      <th>4</th>\n",
       "      <td>/poetsorg/poem/6396-6496</td>\n",
       "      <td>[Love]</td>\n",
       "    </tr>\n",
       "  </tbody>\n",
       "</table>\n",
       "</div>"
      ],
      "text/plain": [
       "                                                 url    themes\n",
       "0      /poetsorg/poem/%E2%80%9Cflying-point%E2%80%9D  [Nature]\n",
       "1  /poetsorg/poem/%E2%80%9Cyou-are-nearly-every-f...  [Cities]\n",
       "2         /poetsorg/poem/1-corinthians-134%E2%80%937    [Love]\n",
       "3    /poetsorg/poem/3-bewildered-landscapes%E2%80%9D  [Nature]\n",
       "4                           /poetsorg/poem/6396-6496    [Love]"
      ]
     },
     "execution_count": 12,
     "metadata": {},
     "output_type": "execute_result"
    }
   ],
   "source": [
    "df_grouped_themes=df_poetsorg_urls.groupby('url').apply(lambda x: x.theme.tolist())\n",
    "df_grouped_themes=pd.DataFrame(df_grouped_themes.reset_index())\n",
    "df_grouped_themes.columns = ['url','themes']\n",
    "df_grouped_themes.head()\n",
    "\n",
    "## if you wish to see which poems were duplicated, run this....\n",
    "\n",
    "# x = np.zeros(len(df_grouped_themes))\n",
    "# for i in range(len(df_grouped_themes)):\n",
    "#     x[i]=len(df_grouped_themes.themes[i])\n",
    "# idx=np.where(x==2)\n",
    "# df_grouped_themes.loc[idx[0].tolist(),:]"
   ]
  },
  {
   "cell_type": "code",
   "execution_count": 13,
   "metadata": {},
   "outputs": [
    {
     "data": {
      "text/html": [
       "<div>\n",
       "<style scoped>\n",
       "    .dataframe tbody tr th:only-of-type {\n",
       "        vertical-align: middle;\n",
       "    }\n",
       "\n",
       "    .dataframe tbody tr th {\n",
       "        vertical-align: top;\n",
       "    }\n",
       "\n",
       "    .dataframe thead th {\n",
       "        text-align: right;\n",
       "    }\n",
       "</style>\n",
       "<table border=\"1\" class=\"dataframe\">\n",
       "  <thead>\n",
       "    <tr style=\"text-align: right;\">\n",
       "      <th></th>\n",
       "      <th>year</th>\n",
       "      <th>title</th>\n",
       "      <th>url</th>\n",
       "      <th>author</th>\n",
       "      <th>themes</th>\n",
       "    </tr>\n",
       "  </thead>\n",
       "  <tbody>\n",
       "    <tr>\n",
       "      <th>0</th>\n",
       "      <td>1917.0</td>\n",
       "      <td>Dawn</td>\n",
       "      <td>/poetsorg/poem/dawn-2</td>\n",
       "      <td>John Gould Fletcher</td>\n",
       "      <td>[Cities, Nature]</td>\n",
       "    </tr>\n",
       "    <tr>\n",
       "      <th>1</th>\n",
       "      <td>2017.0</td>\n",
       "      <td>Daily Conscription</td>\n",
       "      <td>/poetsorg/poem/daily-conscription</td>\n",
       "      <td>Kyle Dargan</td>\n",
       "      <td>[Cities]</td>\n",
       "    </tr>\n",
       "    <tr>\n",
       "      <th>2</th>\n",
       "      <td>1920.0</td>\n",
       "      <td>Recuerdo</td>\n",
       "      <td>/poetsorg/poem/recuerdo-0</td>\n",
       "      <td>Edna St. Vincent Millay</td>\n",
       "      <td>[Cities]</td>\n",
       "    </tr>\n",
       "    <tr>\n",
       "      <th>3</th>\n",
       "      <td>1917.0</td>\n",
       "      <td>[Immortal?... No,]</td>\n",
       "      <td>/poetsorg/poem/immortal-no</td>\n",
       "      <td>F. S. Flint</td>\n",
       "      <td>[Cities, Nature]</td>\n",
       "    </tr>\n",
       "    <tr>\n",
       "      <th>4</th>\n",
       "      <td>2017.0</td>\n",
       "      <td>from “The Last Bohemian of Avenue A”</td>\n",
       "      <td>/poetsorg/poem/last-bohemian-avenue</td>\n",
       "      <td>Yusef Komunyakaa</td>\n",
       "      <td>[Cities]</td>\n",
       "    </tr>\n",
       "  </tbody>\n",
       "</table>\n",
       "</div>"
      ],
      "text/plain": [
       "     year                                 title  \\\n",
       "0  1917.0                                  Dawn   \n",
       "1  2017.0                   Daily Conscription    \n",
       "2  1920.0                              Recuerdo   \n",
       "3  1917.0                    [Immortal?... No,]   \n",
       "4  2017.0  from “The Last Bohemian of Avenue A”   \n",
       "\n",
       "                                   url                   author  \\\n",
       "0                /poetsorg/poem/dawn-2      John Gould Fletcher   \n",
       "1    /poetsorg/poem/daily-conscription              Kyle Dargan   \n",
       "2            /poetsorg/poem/recuerdo-0  Edna St. Vincent Millay   \n",
       "3           /poetsorg/poem/immortal-no              F. S. Flint   \n",
       "4  /poetsorg/poem/last-bohemian-avenue         Yusef Komunyakaa   \n",
       "\n",
       "             themes  \n",
       "0  [Cities, Nature]  \n",
       "1          [Cities]  \n",
       "2          [Cities]  \n",
       "3  [Cities, Nature]  \n",
       "4          [Cities]  "
      ]
     },
     "execution_count": 13,
     "metadata": {},
     "output_type": "execute_result"
    }
   ],
   "source": [
    "# merge grouped themes back into main themes frame\n",
    "del df_poetsorg_urls['theme']\n",
    "df_poetsorg_urls=df_poetsorg_urls.drop_duplicates(subset='url').reset_index(drop=True)\n",
    "df_poetsorg_urls = pd.merge(df_poetsorg_urls,df_grouped_themes,on='url',how='inner')\n",
    "df_poetsorg_urls.head()"
   ]
  },
  {
   "cell_type": "markdown",
   "metadata": {},
   "source": [
    "**Gather the poems from each poem url**\n",
    "\n",
    "OK, now we've assembled an exhaustive list of poem urls, we can scrape the poems themselves!  This will really take a long time:  there are over 10000 labelled poems.  (*Suggestion:  run the cell just before you go to bed and check it in the morning.*)\n",
    "\n",
    "The script writes poems to file every so often.  You can adjust how often it writes and prints out progress information. \n",
    "\n"
   ]
  },
  {
   "cell_type": "code",
   "execution_count": 14,
   "metadata": {},
   "outputs": [
    {
     "name": "stdout",
     "output_type": "stream",
     "text": [
      "completed 1 of 83 batches. \n",
      "completed 2 of 83 batches. \n",
      "completed 3 of 83 batches. \n",
      "completed 4 of 83 batches. \n",
      "completed 5 of 83 batches. \n",
      "completed 6 of 83 batches. \n",
      "completed 7 of 83 batches. \n",
      "completed 8 of 83 batches. \n",
      "completed 9 of 83 batches. \n",
      "completed 10 of 83 batches. \n",
      "completed 11 of 83 batches. \n",
      "completed 12 of 83 batches. \n",
      "completed 13 of 83 batches. \n",
      "completed 14 of 83 batches. \n",
      "completed 15 of 83 batches. \n",
      "completed 16 of 83 batches. \n",
      "completed 17 of 83 batches. \n",
      "completed 18 of 83 batches. \n",
      "completed 19 of 83 batches. \n",
      "completed 20 of 83 batches. \n",
      "completed 21 of 83 batches. \n",
      "completed 22 of 83 batches. \n",
      "completed 23 of 83 batches. \n",
      "completed 24 of 83 batches. \n",
      "completed 25 of 83 batches. \n",
      "completed 26 of 83 batches. \n",
      "completed 27 of 83 batches. \n",
      "completed 28 of 83 batches. \n",
      "completed 29 of 83 batches. \n",
      "completed 30 of 83 batches. \n",
      "completed 31 of 83 batches. \n",
      "completed 32 of 83 batches. \n",
      "completed 33 of 83 batches. \n",
      "completed 34 of 83 batches. \n",
      "completed 35 of 83 batches. \n",
      "completed 36 of 83 batches. \n",
      "completed 37 of 83 batches. \n",
      "completed 38 of 83 batches. \n",
      "completed 39 of 83 batches. \n",
      "completed 40 of 83 batches. \n",
      "completed 41 of 83 batches. \n",
      "completed 42 of 83 batches. \n",
      "completed 43 of 83 batches. \n",
      "completed 44 of 83 batches. \n",
      "completed 45 of 83 batches. \n",
      "completed 46 of 83 batches. \n",
      "completed 47 of 83 batches. \n",
      "completed 48 of 83 batches. \n",
      "completed 49 of 83 batches. \n",
      "completed 50 of 83 batches. \n",
      "completed 51 of 83 batches. \n",
      "completed 52 of 83 batches. \n",
      "completed 53 of 83 batches. \n",
      "completed 54 of 83 batches. \n",
      "completed 55 of 83 batches. \n",
      "completed 56 of 83 batches. \n",
      "completed 57 of 83 batches. \n",
      "completed 58 of 83 batches. \n",
      "completed 59 of 83 batches. \n",
      "completed 60 of 83 batches. \n",
      "completed 61 of 83 batches. \n",
      "completed 62 of 83 batches. \n",
      "completed 63 of 83 batches. \n",
      "completed 64 of 83 batches. \n",
      "completed 65 of 83 batches. \n",
      "completed 66 of 83 batches. \n",
      "completed 67 of 83 batches. \n",
      "completed 68 of 83 batches. \n",
      "completed 69 of 83 batches. \n",
      "completed 70 of 83 batches. \n",
      "completed 71 of 83 batches. \n",
      "completed 72 of 83 batches. \n",
      "completed 73 of 83 batches. \n",
      "completed 74 of 83 batches. \n",
      "completed 75 of 83 batches. \n",
      "completed 76 of 83 batches. \n",
      "completed 77 of 83 batches. \n",
      "completed 78 of 83 batches. \n",
      "completed 79 of 83 batches. \n",
      "completed 80 of 83 batches. \n",
      "completed 81 of 83 batches. \n",
      "completed 82 of 83 batches. \n"
     ]
    }
   ],
   "source": [
    "# define batch size for writing to file and printing progress\n",
    "batchsize=10\n",
    "outfile = 'poetsorg_poems.csv'\n",
    "check_filename(outfile)\n",
    "\n",
    "# create a dataframe to hold the poems, indexed by url\n",
    "df_poetsorg_poems = pd.DataFrame(columns=['url','poem'])\n",
    "df_poetsorg_poems['url']=df_poetsorg_urls['url']\n",
    "df_poetsorg_poems.reset_index(inplace=True,drop=True)\n",
    "jobsize = np.ceil(len(df_poetsorg_poems)/batchsize)\n",
    "\n",
    "# iterate over all poems\n",
    "counter = 0\n",
    "for row in df_poetsorg_poems.itertuples():\n",
    "    \n",
    "    # connecting poem page\n",
    "    url = 'https://www.poets.org' + row.url\n",
    "    main = requests.get(url)\n",
    "    main_soup = BeautifulSoup(main.text,'lxml') \n",
    "\n",
    "    # finding the relevant div snippet, printing error message if we can't find it\n",
    "    poem_div=main_soup.find('div',class_=\"field field-name-body field-type-text-with-summary field-label-hidden\")\n",
    "    if poem_div:\n",
    "        text = poem_div.get_text(\" \")\n",
    "    else:\n",
    "        print('missed {}'.format(url))\n",
    "        \n",
    "    # store poem in dataframe\n",
    "    df_poetsorg_poems.loc[row.Index,'poem'] = text\n",
    "    \n",
    "    counter+=1\n",
    "    #every batch, write to file and print out counter \n",
    "    if np.mod(counter,batchsize)==0:\n",
    "        with open(outfile, 'a') as f:\n",
    "            df_poetsorg_poems[counter-batchsize:counter].to_csv(f, header=False,index=False)\n",
    "        print(\"completed {:1.0f} of {:1.0f} batches. \".format(counter/batchsize,jobsize))\n",
    "\n",
    "# one last print statement to get residuals\n",
    "with open(outfile, 'a') as f:\n",
    "            df_poetsorg_poems[counter-np.mod(counter,batchsize):counter+1].to_csv(f, header=False,index=False)"
   ]
  },
  {
   "cell_type": "markdown",
   "metadata": {},
   "source": [
    "We've already written these poems to a CSV file, but let's join the poems to the authors, titles, etc, and re-write the whole thing to include a header.  Let's also store the dataframe a pickle file.   Note that linebreaks are saved.  These might be useful for subsequent formatting, but will need to be cleaned out for processing."
   ]
  },
  {
   "cell_type": "code",
   "execution_count": 15,
   "metadata": {},
   "outputs": [
    {
     "data": {
      "text/html": [
       "<div>\n",
       "<style scoped>\n",
       "    .dataframe tbody tr th:only-of-type {\n",
       "        vertical-align: middle;\n",
       "    }\n",
       "\n",
       "    .dataframe tbody tr th {\n",
       "        vertical-align: top;\n",
       "    }\n",
       "\n",
       "    .dataframe thead th {\n",
       "        text-align: right;\n",
       "    }\n",
       "</style>\n",
       "<table border=\"1\" class=\"dataframe\">\n",
       "  <thead>\n",
       "    <tr style=\"text-align: right;\">\n",
       "      <th></th>\n",
       "      <th>year</th>\n",
       "      <th>title</th>\n",
       "      <th>url</th>\n",
       "      <th>author</th>\n",
       "      <th>themes</th>\n",
       "      <th>poem</th>\n",
       "    </tr>\n",
       "  </thead>\n",
       "  <tbody>\n",
       "    <tr>\n",
       "      <th>0</th>\n",
       "      <td>1917.0</td>\n",
       "      <td>Dawn</td>\n",
       "      <td>/poetsorg/poem/dawn-2</td>\n",
       "      <td>John Gould Fletcher</td>\n",
       "      <td>[Cities, Nature]</td>\n",
       "      <td>Above the east horizon, The great red flower o...</td>\n",
       "    </tr>\n",
       "    <tr>\n",
       "      <th>1</th>\n",
       "      <td>2017.0</td>\n",
       "      <td>Daily Conscription</td>\n",
       "      <td>/poetsorg/poem/daily-conscription</td>\n",
       "      <td>Kyle Dargan</td>\n",
       "      <td>[Cities]</td>\n",
       "      <td>“We can no longer afford that particular roman...</td>\n",
       "    </tr>\n",
       "    <tr>\n",
       "      <th>2</th>\n",
       "      <td>1920.0</td>\n",
       "      <td>Recuerdo</td>\n",
       "      <td>/poetsorg/poem/recuerdo-0</td>\n",
       "      <td>Edna St. Vincent Millay</td>\n",
       "      <td>[Cities]</td>\n",
       "      <td>We were very tired, we were very merry—   We...</td>\n",
       "    </tr>\n",
       "    <tr>\n",
       "      <th>3</th>\n",
       "      <td>1917.0</td>\n",
       "      <td>[Immortal?... No,]</td>\n",
       "      <td>/poetsorg/poem/immortal-no</td>\n",
       "      <td>F. S. Flint</td>\n",
       "      <td>[Cities, Nature]</td>\n",
       "      <td>Immortal?... No, they cannot be, these people,...</td>\n",
       "    </tr>\n",
       "    <tr>\n",
       "      <th>4</th>\n",
       "      <td>2017.0</td>\n",
       "      <td>from “The Last Bohemian of Avenue A”</td>\n",
       "      <td>/poetsorg/poem/last-bohemian-avenue</td>\n",
       "      <td>Yusef Komunyakaa</td>\n",
       "      <td>[Cities]</td>\n",
       "      <td>Here’s the End of the World mobile with its sh...</td>\n",
       "    </tr>\n",
       "  </tbody>\n",
       "</table>\n",
       "</div>"
      ],
      "text/plain": [
       "     year                                 title  \\\n",
       "0  1917.0                                  Dawn   \n",
       "1  2017.0                   Daily Conscription    \n",
       "2  1920.0                              Recuerdo   \n",
       "3  1917.0                    [Immortal?... No,]   \n",
       "4  2017.0  from “The Last Bohemian of Avenue A”   \n",
       "\n",
       "                                   url                   author  \\\n",
       "0                /poetsorg/poem/dawn-2      John Gould Fletcher   \n",
       "1    /poetsorg/poem/daily-conscription              Kyle Dargan   \n",
       "2            /poetsorg/poem/recuerdo-0  Edna St. Vincent Millay   \n",
       "3           /poetsorg/poem/immortal-no              F. S. Flint   \n",
       "4  /poetsorg/poem/last-bohemian-avenue         Yusef Komunyakaa   \n",
       "\n",
       "             themes                                               poem  \n",
       "0  [Cities, Nature]  Above the east horizon, The great red flower o...  \n",
       "1          [Cities]  “We can no longer afford that particular roman...  \n",
       "2          [Cities]    We were very tired, we were very merry—   We...  \n",
       "3  [Cities, Nature]  Immortal?... No, they cannot be, these people,...  \n",
       "4          [Cities]  Here’s the End of the World mobile with its sh...  "
      ]
     },
     "execution_count": 15,
     "metadata": {},
     "output_type": "execute_result"
    }
   ],
   "source": [
    "df = pd.merge(df_poetsorg_urls,df_poetsorg_poems, on='url',left_index=True,right_index=True,how='inner')\n",
    "df.head()"
   ]
  },
  {
   "cell_type": "code",
   "execution_count": 23,
   "metadata": {},
   "outputs": [],
   "source": [
    "# save the poems\n",
    "df.to_pickle('poetsorg_poems_full.pkl')\n",
    "df.to_csv('poetsorg_poems_full.csv',index=False)"
   ]
  },
  {
   "cell_type": "code",
   "execution_count": 22,
   "metadata": {},
   "outputs": [
    {
     "data": {
      "text/html": [
       "<div>\n",
       "<style scoped>\n",
       "    .dataframe tbody tr th:only-of-type {\n",
       "        vertical-align: middle;\n",
       "    }\n",
       "\n",
       "    .dataframe tbody tr th {\n",
       "        vertical-align: top;\n",
       "    }\n",
       "\n",
       "    .dataframe thead th {\n",
       "        text-align: right;\n",
       "    }\n",
       "</style>\n",
       "<table border=\"1\" class=\"dataframe\">\n",
       "  <thead>\n",
       "    <tr style=\"text-align: right;\">\n",
       "      <th></th>\n",
       "      <th>year</th>\n",
       "      <th>title</th>\n",
       "      <th>url</th>\n",
       "      <th>author</th>\n",
       "      <th>themes</th>\n",
       "      <th>poem</th>\n",
       "    </tr>\n",
       "  </thead>\n",
       "  <tbody>\n",
       "    <tr>\n",
       "      <th>0</th>\n",
       "      <td>1917.0</td>\n",
       "      <td>Dawn</td>\n",
       "      <td>/poetsorg/poem/dawn-2</td>\n",
       "      <td>John Gould Fletcher</td>\n",
       "      <td>[Cities, Nature]</td>\n",
       "      <td>Above the east horizon, The great red flower o...</td>\n",
       "    </tr>\n",
       "    <tr>\n",
       "      <th>1</th>\n",
       "      <td>2017.0</td>\n",
       "      <td>Daily Conscription</td>\n",
       "      <td>/poetsorg/poem/daily-conscription</td>\n",
       "      <td>Kyle Dargan</td>\n",
       "      <td>[Cities]</td>\n",
       "      <td>“We can no longer afford that particular roman...</td>\n",
       "    </tr>\n",
       "    <tr>\n",
       "      <th>2</th>\n",
       "      <td>1920.0</td>\n",
       "      <td>Recuerdo</td>\n",
       "      <td>/poetsorg/poem/recuerdo-0</td>\n",
       "      <td>Edna St. Vincent Millay</td>\n",
       "      <td>[Cities]</td>\n",
       "      <td>We were very tired, we were very merry—   We...</td>\n",
       "    </tr>\n",
       "    <tr>\n",
       "      <th>3</th>\n",
       "      <td>1917.0</td>\n",
       "      <td>[Immortal?... No,]</td>\n",
       "      <td>/poetsorg/poem/immortal-no</td>\n",
       "      <td>F. S. Flint</td>\n",
       "      <td>[Cities, Nature]</td>\n",
       "      <td>Immortal?... No, they cannot be, these people,...</td>\n",
       "    </tr>\n",
       "    <tr>\n",
       "      <th>4</th>\n",
       "      <td>2017.0</td>\n",
       "      <td>from “The Last Bohemian of Avenue A”</td>\n",
       "      <td>/poetsorg/poem/last-bohemian-avenue</td>\n",
       "      <td>Yusef Komunyakaa</td>\n",
       "      <td>[Cities]</td>\n",
       "      <td>Here’s the End of the World mobile with its sh...</td>\n",
       "    </tr>\n",
       "  </tbody>\n",
       "</table>\n",
       "</div>"
      ],
      "text/plain": [
       "     year                                 title  \\\n",
       "0  1917.0                                  Dawn   \n",
       "1  2017.0                   Daily Conscription    \n",
       "2  1920.0                              Recuerdo   \n",
       "3  1917.0                    [Immortal?... No,]   \n",
       "4  2017.0  from “The Last Bohemian of Avenue A”   \n",
       "\n",
       "                                   url                   author  \\\n",
       "0                /poetsorg/poem/dawn-2      John Gould Fletcher   \n",
       "1    /poetsorg/poem/daily-conscription              Kyle Dargan   \n",
       "2            /poetsorg/poem/recuerdo-0  Edna St. Vincent Millay   \n",
       "3           /poetsorg/poem/immortal-no              F. S. Flint   \n",
       "4  /poetsorg/poem/last-bohemian-avenue         Yusef Komunyakaa   \n",
       "\n",
       "             themes                                               poem  \n",
       "0  [Cities, Nature]  Above the east horizon, The great red flower o...  \n",
       "1          [Cities]  “We can no longer afford that particular roman...  \n",
       "2          [Cities]    We were very tired, we were very merry—   We...  \n",
       "3  [Cities, Nature]  Immortal?... No, they cannot be, these people,...  \n",
       "4          [Cities]  Here’s the End of the World mobile with its sh...  "
      ]
     },
     "execution_count": 22,
     "metadata": {},
     "output_type": "execute_result"
    }
   ],
   "source": [
    "df.head()"
   ]
  },
  {
   "cell_type": "markdown",
   "metadata": {},
   "source": [
    "## Part III:  clean the data!"
   ]
  },
  {
   "cell_type": "markdown",
   "metadata": {},
   "source": [
    "Drop any record with missing values.  "
   ]
  },
  {
   "cell_type": "code",
   "execution_count": 24,
   "metadata": {},
   "outputs": [
    {
     "data": {
      "text/plain": [
       "822"
      ]
     },
     "execution_count": 24,
     "metadata": {},
     "output_type": "execute_result"
    }
   ],
   "source": [
    "df = df.dropna(axis=0,subset=['poem','themes'],how='any')\n",
    "len(df)"
   ]
  },
  {
   "cell_type": "markdown",
   "metadata": {},
   "source": [
    "Remove carriage returns."
   ]
  },
  {
   "cell_type": "code",
   "execution_count": 28,
   "metadata": {},
   "outputs": [
    {
     "data": {
      "text/plain": [
       "0    Above the east horizon, The great red flower o...\n",
       "1    “We can no longer afford that particular roman...\n",
       "2    We were very tired, we were very merry—   We h...\n",
       "3    Immortal?... No, they cannot be, these people,...\n",
       "4    Here’s the End of the World mobile with its sh...\n",
       "Name: poem, dtype: object"
      ]
     },
     "execution_count": 28,
     "metadata": {},
     "output_type": "execute_result"
    }
   ],
   "source": [
    "df = df.replace({r'\\r|\\n': ' '}, regex=True)\n",
    "df.poem = df.poem.str.strip()\n",
    "df.poem.head()"
   ]
  },
  {
   "cell_type": "markdown",
   "metadata": {},
   "source": [
    "Generate and store length information for each poem"
   ]
  },
  {
   "cell_type": "code",
   "execution_count": 32,
   "metadata": {},
   "outputs": [
    {
     "data": {
      "text/plain": [
       "(array([ 9.,  5., 10., 12., 31., 33., 31., 35., 31., 38., 62., 59., 64.,\n",
       "        38., 42., 25., 25., 18., 19., 17.]),\n",
       " array([  7.  ,  16.55,  26.1 ,  35.65,  45.2 ,  54.75,  64.3 ,  73.85,\n",
       "         83.4 ,  92.95, 102.5 , 112.05, 121.6 , 131.15, 140.7 , 150.25,\n",
       "        159.8 , 169.35, 178.9 , 188.45, 198.  ]),\n",
       " <a list of 20 Patch objects>)"
      ]
     },
     "execution_count": 32,
     "metadata": {},
     "output_type": "execute_result"
    },
    {
     "data": {
      "image/png": "[encoded data removed]",
      "text/plain": [
       "<matplotlib.figure.Figure at 0x10e3955c0>"
      ]
     },
     "metadata": {},
     "output_type": "display_data"
    }
   ],
   "source": [
    "# calculate length for each poem, and plot it in a histogram\n",
    "maxlength=200\n",
    "df['lengths'] = df.poem.str.split(' ').apply(lambda x: len(x))\n",
    "plt.hist(df.lengths.loc[df.lengths<maxlength],20)"
   ]
  },
  {
   "cell_type": "markdown",
   "metadata": {},
   "source": [
    "Store the clean data"
   ]
  },
  {
   "cell_type": "code",
   "execution_count": 33,
   "metadata": {},
   "outputs": [],
   "source": [
    "df.to_csv('poetsorg_clean.csv',index=False)\n",
    "df.to_pickle('poetsorg_clean.pkl')"
   ]
  },
  {
   "cell_type": "code",
   "execution_count": 34,
   "metadata": {},
   "outputs": [
    {
     "data": {
      "text/plain": [
       "year       784\n",
       "title      790\n",
       "url        790\n",
       "author     784\n",
       "themes     790\n",
       "poem       790\n",
       "lengths    790\n",
       "dtype: int64"
      ]
     },
     "execution_count": 34,
     "metadata": {},
     "output_type": "execute_result"
    }
   ],
   "source": [
    "df.loc[df.lengths<500,:].count()"
   ]
  },
  {
   "cell_type": "code",
   "execution_count": null,
   "metadata": {},
   "outputs": [],
   "source": []
  }
 ],
 "metadata": {
  "kernelspec": {
   "display_name": "Python 3",
   "language": "python",
   "name": "python3"
  },
  "language_info": {
   "codemirror_mode": {
    "name": "ipython",
    "version": 3
   },
   "file_extension": ".py",
   "mimetype": "text/x-python",
   "name": "python",
   "nbconvert_exporter": "python",
   "pygments_lexer": "ipython3",
   "version": "3.6.4"
  }
 },
 "nbformat": 4,
 "nbformat_minor": 2
}
