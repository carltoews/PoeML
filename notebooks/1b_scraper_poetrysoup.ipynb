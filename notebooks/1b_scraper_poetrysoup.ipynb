{
 "cells": [
  {
   "cell_type": "markdown",
   "metadata": {},
   "source": [
    "# Scraper:  poetrysoup.com\n",
    "\n",
    "This notebook scrapes the \"Top 100 Short Poems\" from www.PoetrySoup.com\n",
    "\n",
    "This script is divided into two parts:\n",
    "\n",
    "1.  <a href='#scraping'> Scraping </a>\n",
    "2.  <a href='#cleaning'> Cleaning </a>"
   ]
  },
  {
   "cell_type": "markdown",
   "metadata": {},
   "source": [
    "<a id='scraping'></a>\n",
    "## Part I:  Scraping\n",
    "\n",
    "**Path and file names**"
   ]
  },
  {
   "cell_type": "code",
   "execution_count": 1,
   "metadata": {},
   "outputs": [],
   "source": [
    "rootdir = '../data/poems'                    # root directory for data\n",
    "csvdir   = rootdir + '/csv'            # subdirectory for csv files\n",
    "pkldir   = rootdir + '/pkl'            # subdirectory for pkl files\n",
    "rawpoems_fname = 'top100_raw'          # base name of variables and files containing raw, uncleaned poems\n",
    "cleanpoems_fname = 'top100_clean'      # base name for cleaned poems\n",
    "main_website = 'https://www.poetrysoup.com' # main website for these poems\n",
    "top100 = '/famous/poems/short/top_100_famous_short_poems' # url extension with this collection"
   ]
  },
  {
   "cell_type": "markdown",
   "metadata": {},
   "source": [
    "**Import statements**:  Some pandas, beautiful soup, and string functionality."
   ]
  },
  {
   "cell_type": "code",
   "execution_count": 2,
   "metadata": {},
   "outputs": [],
   "source": [
    "from bs4 import BeautifulSoup\n",
    "import requests\n",
    "import numpy as np\n",
    "import pandas as pd\n",
    "import urllib"
   ]
  },
  {
   "cell_type": "markdown",
   "metadata": {},
   "source": [
    "**Get landing page for poem links**"
   ]
  },
  {
   "cell_type": "code",
   "execution_count": 14,
   "metadata": {},
   "outputs": [],
   "source": [
    "main = requests.get(main_website + top100 + '.aspx')\n",
    "main_soup = BeautifulSoup(main.text,'lxml') "
   ]
  },
  {
   "cell_type": "markdown",
   "metadata": {},
   "source": [
    "**Scrape url, title, and author**"
   ]
  },
  {
   "cell_type": "code",
   "execution_count": 16,
   "metadata": {},
   "outputs": [
    {
     "data": {
      "text/html": [
       "<div>\n",
       "<style scoped>\n",
       "    .dataframe tbody tr th:only-of-type {\n",
       "        vertical-align: middle;\n",
       "    }\n",
       "\n",
       "    .dataframe tbody tr th {\n",
       "        vertical-align: top;\n",
       "    }\n",
       "\n",
       "    .dataframe thead th {\n",
       "        text-align: right;\n",
       "    }\n",
       "</style>\n",
       "<table border=\"1\" class=\"dataframe\">\n",
       "  <thead>\n",
       "    <tr style=\"text-align: right;\">\n",
       "      <th></th>\n",
       "      <th>url</th>\n",
       "      <th>title</th>\n",
       "      <th>author</th>\n",
       "    </tr>\n",
       "  </thead>\n",
       "  <tbody>\n",
       "    <tr>\n",
       "      <th>0</th>\n",
       "      <td>/famous/poem/im_nobody!_who_are_you_41</td>\n",
       "      <td>Im nobody! Who are you?</td>\n",
       "      <td>Emily Dickinson</td>\n",
       "    </tr>\n",
       "    <tr>\n",
       "      <th>1</th>\n",
       "      <td>/famous/poem/the_lesson_115</td>\n",
       "      <td>The Lesson</td>\n",
       "      <td>Maya Angelou</td>\n",
       "    </tr>\n",
       "    <tr>\n",
       "      <th>2</th>\n",
       "      <td>/famous/poem/the_power_of_a_smile_21350</td>\n",
       "      <td>The Power of a Smile</td>\n",
       "      <td>Tupac Shakur</td>\n",
       "    </tr>\n",
       "    <tr>\n",
       "      <th>3</th>\n",
       "      <td>/famous/poem/a_total_stranger_one_black_day_408</td>\n",
       "      <td>a total stranger one black day</td>\n",
       "      <td>Edward Estlin (E E) Cummings</td>\n",
       "    </tr>\n",
       "    <tr>\n",
       "      <th>4</th>\n",
       "      <td>/famous/poem/i_float_like_a_butterfly_sting_li...</td>\n",
       "      <td>I float like a butterfly, sting like a bee</td>\n",
       "      <td>Muhammad Ali</td>\n",
       "    </tr>\n",
       "  </tbody>\n",
       "</table>\n",
       "</div>"
      ],
      "text/plain": [
       "                                                 url  \\\n",
       "0             /famous/poem/im_nobody!_who_are_you_41   \n",
       "1                        /famous/poem/the_lesson_115   \n",
       "2            /famous/poem/the_power_of_a_smile_21350   \n",
       "3    /famous/poem/a_total_stranger_one_black_day_408   \n",
       "4  /famous/poem/i_float_like_a_butterfly_sting_li...   \n",
       "\n",
       "                                        title                        author  \n",
       "0                     Im nobody! Who are you?               Emily Dickinson  \n",
       "1                                  The Lesson                  Maya Angelou  \n",
       "2                        The Power of a Smile                  Tupac Shakur  \n",
       "3              a total stranger one black day  Edward Estlin (E E) Cummings  \n",
       "4  I float like a butterfly, sting like a bee                  Muhammad Ali  "
      ]
     },
     "execution_count": 16,
     "metadata": {},
     "output_type": "execute_result"
    }
   ],
   "source": [
    "df = []\n",
    "all_items=main_soup.find_all('tr')\n",
    "for item in all_items[1::]:\n",
    "    info=item.find_all('a')\n",
    "    url = info[0].get('href')\n",
    "    title = info[0].get_text().strip()\n",
    "    author = info[1].get_text().strip()\n",
    "    df.append([url,title,author])\n",
    "df_rawpoems = pd.DataFrame(df,columns=['url','title','author'])\n",
    "df_rawpoems.head()"
   ]
  },
  {
   "cell_type": "markdown",
   "metadata": {},
   "source": [
    "**Now scrape off poems**"
   ]
  },
  {
   "cell_type": "code",
   "execution_count": 19,
   "metadata": {},
   "outputs": [],
   "source": [
    "# store poem info in a list\n",
    "poems = []\n",
    "for row in df_rawpoems.itertuples():\n",
    "    main = requests.get(main_website+row[1])\n",
    "    main_soup = BeautifulSoup(main.text,'lxml') \n",
    "    poem = main_soup.find_all('pre')\n",
    "    poems.append(poem[0].get_text())"
   ]
  },
  {
   "cell_type": "code",
   "execution_count": 20,
   "metadata": {},
   "outputs": [
    {
     "data": {
      "text/html": [
       "<div>\n",
       "<style scoped>\n",
       "    .dataframe tbody tr th:only-of-type {\n",
       "        vertical-align: middle;\n",
       "    }\n",
       "\n",
       "    .dataframe tbody tr th {\n",
       "        vertical-align: top;\n",
       "    }\n",
       "\n",
       "    .dataframe thead th {\n",
       "        text-align: right;\n",
       "    }\n",
       "</style>\n",
       "<table border=\"1\" class=\"dataframe\">\n",
       "  <thead>\n",
       "    <tr style=\"text-align: right;\">\n",
       "      <th></th>\n",
       "      <th>url</th>\n",
       "      <th>title</th>\n",
       "      <th>author</th>\n",
       "      <th>poem</th>\n",
       "    </tr>\n",
       "  </thead>\n",
       "  <tbody>\n",
       "    <tr>\n",
       "      <th>0</th>\n",
       "      <td>/famous/poem/im_nobody!_who_are_you_41</td>\n",
       "      <td>Im nobody! Who are you?</td>\n",
       "      <td>Emily Dickinson</td>\n",
       "      <td>I'm nobody! Who are you?\\r\\nAre you nobody, to...</td>\n",
       "    </tr>\n",
       "    <tr>\n",
       "      <th>1</th>\n",
       "      <td>/famous/poem/the_lesson_115</td>\n",
       "      <td>The Lesson</td>\n",
       "      <td>Maya Angelou</td>\n",
       "      <td>I keep on dying again.\\r\\nVeins collapse, open...</td>\n",
       "    </tr>\n",
       "    <tr>\n",
       "      <th>2</th>\n",
       "      <td>/famous/poem/the_power_of_a_smile_21350</td>\n",
       "      <td>The Power of a Smile</td>\n",
       "      <td>Tupac Shakur</td>\n",
       "      <td>The power of a gun can kill\\r\\nand the power o...</td>\n",
       "    </tr>\n",
       "    <tr>\n",
       "      <th>3</th>\n",
       "      <td>/famous/poem/a_total_stranger_one_black_day_408</td>\n",
       "      <td>a total stranger one black day</td>\n",
       "      <td>Edward Estlin (E E) Cummings</td>\n",
       "      <td>a total stranger one black day\\r\\nknocked livi...</td>\n",
       "    </tr>\n",
       "    <tr>\n",
       "      <th>4</th>\n",
       "      <td>/famous/poem/i_float_like_a_butterfly_sting_li...</td>\n",
       "      <td>I float like a butterfly, sting like a bee</td>\n",
       "      <td>Muhammad Ali</td>\n",
       "      <td>I float like a butterfly, sting like a bee</td>\n",
       "    </tr>\n",
       "  </tbody>\n",
       "</table>\n",
       "</div>"
      ],
      "text/plain": [
       "                                                 url  \\\n",
       "0             /famous/poem/im_nobody!_who_are_you_41   \n",
       "1                        /famous/poem/the_lesson_115   \n",
       "2            /famous/poem/the_power_of_a_smile_21350   \n",
       "3    /famous/poem/a_total_stranger_one_black_day_408   \n",
       "4  /famous/poem/i_float_like_a_butterfly_sting_li...   \n",
       "\n",
       "                                        title                        author  \\\n",
       "0                     Im nobody! Who are you?               Emily Dickinson   \n",
       "1                                  The Lesson                  Maya Angelou   \n",
       "2                        The Power of a Smile                  Tupac Shakur   \n",
       "3              a total stranger one black day  Edward Estlin (E E) Cummings   \n",
       "4  I float like a butterfly, sting like a bee                  Muhammad Ali   \n",
       "\n",
       "                                                poem  \n",
       "0  I'm nobody! Who are you?\\r\\nAre you nobody, to...  \n",
       "1  I keep on dying again.\\r\\nVeins collapse, open...  \n",
       "2  The power of a gun can kill\\r\\nand the power o...  \n",
       "3  a total stranger one black day\\r\\nknocked livi...  \n",
       "4         I float like a butterfly, sting like a bee  "
      ]
     },
     "execution_count": 20,
     "metadata": {},
     "output_type": "execute_result"
    }
   ],
   "source": [
    "# convert to dataframe\n",
    "df_rawpoems['poem'] = poems\n",
    "\n",
    "# take a peak\n",
    "df_rawpoems.head()"
   ]
  },
  {
   "cell_type": "markdown",
   "metadata": {},
   "source": [
    "**Save to disk**.  "
   ]
  },
  {
   "cell_type": "code",
   "execution_count": 24,
   "metadata": {},
   "outputs": [],
   "source": [
    "df_rawpoems.to_pickle(pkldir + '/' + rawpoems_fname + '.pkl')\n",
    "df_rawpoems.to_csv(csvdir + '/' + rawpoems_fname + '.csv',index=False)"
   ]
  },
  {
   "cell_type": "markdown",
   "metadata": {},
   "source": [
    "<a id='cleaning'></a>\n",
    "## Part II:  Clean the Poems"
   ]
  },
  {
   "cell_type": "markdown",
   "metadata": {},
   "source": [
    "**Load the data**"
   ]
  },
  {
   "cell_type": "code",
   "execution_count": 3,
   "metadata": {},
   "outputs": [
    {
     "name": "stdout",
     "output_type": "stream",
     "text": [
      "length of data:   100\n"
     ]
    },
    {
     "data": {
      "text/html": [
       "<div>\n",
       "<style scoped>\n",
       "    .dataframe tbody tr th:only-of-type {\n",
       "        vertical-align: middle;\n",
       "    }\n",
       "\n",
       "    .dataframe tbody tr th {\n",
       "        vertical-align: top;\n",
       "    }\n",
       "\n",
       "    .dataframe thead th {\n",
       "        text-align: right;\n",
       "    }\n",
       "</style>\n",
       "<table border=\"1\" class=\"dataframe\">\n",
       "  <thead>\n",
       "    <tr style=\"text-align: right;\">\n",
       "      <th></th>\n",
       "      <th>url</th>\n",
       "      <th>title</th>\n",
       "      <th>author</th>\n",
       "      <th>poem</th>\n",
       "    </tr>\n",
       "  </thead>\n",
       "  <tbody>\n",
       "    <tr>\n",
       "      <th>0</th>\n",
       "      <td>/famous/poem/im_nobody!_who_are_you_41</td>\n",
       "      <td>Im nobody! Who are you?</td>\n",
       "      <td>Emily Dickinson</td>\n",
       "      <td>I'm nobody! Who are you?\\r\\nAre you nobody, to...</td>\n",
       "    </tr>\n",
       "    <tr>\n",
       "      <th>1</th>\n",
       "      <td>/famous/poem/the_lesson_115</td>\n",
       "      <td>The Lesson</td>\n",
       "      <td>Maya Angelou</td>\n",
       "      <td>I keep on dying again.\\r\\nVeins collapse, open...</td>\n",
       "    </tr>\n",
       "    <tr>\n",
       "      <th>2</th>\n",
       "      <td>/famous/poem/the_power_of_a_smile_21350</td>\n",
       "      <td>The Power of a Smile</td>\n",
       "      <td>Tupac Shakur</td>\n",
       "      <td>The power of a gun can kill\\r\\nand the power o...</td>\n",
       "    </tr>\n",
       "    <tr>\n",
       "      <th>3</th>\n",
       "      <td>/famous/poem/a_total_stranger_one_black_day_408</td>\n",
       "      <td>a total stranger one black day</td>\n",
       "      <td>Edward Estlin (E E) Cummings</td>\n",
       "      <td>a total stranger one black day\\r\\nknocked livi...</td>\n",
       "    </tr>\n",
       "    <tr>\n",
       "      <th>4</th>\n",
       "      <td>/famous/poem/i_float_like_a_butterfly_sting_li...</td>\n",
       "      <td>I float like a butterfly, sting like a bee</td>\n",
       "      <td>Muhammad Ali</td>\n",
       "      <td>I float like a butterfly, sting like a bee</td>\n",
       "    </tr>\n",
       "  </tbody>\n",
       "</table>\n",
       "</div>"
      ],
      "text/plain": [
       "                                                 url  \\\n",
       "0             /famous/poem/im_nobody!_who_are_you_41   \n",
       "1                        /famous/poem/the_lesson_115   \n",
       "2            /famous/poem/the_power_of_a_smile_21350   \n",
       "3    /famous/poem/a_total_stranger_one_black_day_408   \n",
       "4  /famous/poem/i_float_like_a_butterfly_sting_li...   \n",
       "\n",
       "                                        title                        author  \\\n",
       "0                     Im nobody! Who are you?               Emily Dickinson   \n",
       "1                                  The Lesson                  Maya Angelou   \n",
       "2                        The Power of a Smile                  Tupac Shakur   \n",
       "3              a total stranger one black day  Edward Estlin (E E) Cummings   \n",
       "4  I float like a butterfly, sting like a bee                  Muhammad Ali   \n",
       "\n",
       "                                                poem  \n",
       "0  I'm nobody! Who are you?\\r\\nAre you nobody, to...  \n",
       "1  I keep on dying again.\\r\\nVeins collapse, open...  \n",
       "2  The power of a gun can kill\\r\\nand the power o...  \n",
       "3  a total stranger one black day\\r\\nknocked livi...  \n",
       "4         I float like a butterfly, sting like a bee  "
      ]
     },
     "execution_count": 3,
     "metadata": {},
     "output_type": "execute_result"
    }
   ],
   "source": [
    "df_cleanpoems = pd.read_pickle(pkldir + '/' + rawpoems_fname + '.pkl')\n",
    "print(\"length of data:  \", len(df_cleanpoems))\n",
    "df_cleanpoems.head()"
   ]
  },
  {
   "cell_type": "markdown",
   "metadata": {},
   "source": [
    "**Replace spaces and newlines.**\n",
    "\n",
    "The poems are full of tabs, newlines, etc.  Let's clean them up.\n"
   ]
  },
  {
   "cell_type": "code",
   "execution_count": 5,
   "metadata": {},
   "outputs": [
    {
     "data": {
      "text/html": [
       "<div>\n",
       "<style scoped>\n",
       "    .dataframe tbody tr th:only-of-type {\n",
       "        vertical-align: middle;\n",
       "    }\n",
       "\n",
       "    .dataframe tbody tr th {\n",
       "        vertical-align: top;\n",
       "    }\n",
       "\n",
       "    .dataframe thead th {\n",
       "        text-align: right;\n",
       "    }\n",
       "</style>\n",
       "<table border=\"1\" class=\"dataframe\">\n",
       "  <thead>\n",
       "    <tr style=\"text-align: right;\">\n",
       "      <th></th>\n",
       "      <th>url</th>\n",
       "      <th>title</th>\n",
       "      <th>author</th>\n",
       "      <th>poem</th>\n",
       "    </tr>\n",
       "  </thead>\n",
       "  <tbody>\n",
       "    <tr>\n",
       "      <th>0</th>\n",
       "      <td>/famous/poem/im_nobody!_who_are_you_41</td>\n",
       "      <td>Im nobody! Who are you?</td>\n",
       "      <td>Emily Dickinson</td>\n",
       "      <td>I'm nobody! Who are you?  Are you nobody, too?...</td>\n",
       "    </tr>\n",
       "    <tr>\n",
       "      <th>1</th>\n",
       "      <td>/famous/poem/the_lesson_115</td>\n",
       "      <td>The Lesson</td>\n",
       "      <td>Maya Angelou</td>\n",
       "      <td>I keep on dying again.  Veins collapse, openin...</td>\n",
       "    </tr>\n",
       "    <tr>\n",
       "      <th>2</th>\n",
       "      <td>/famous/poem/the_power_of_a_smile_21350</td>\n",
       "      <td>The Power of a Smile</td>\n",
       "      <td>Tupac Shakur</td>\n",
       "      <td>The power of a gun can kill  and the power of ...</td>\n",
       "    </tr>\n",
       "    <tr>\n",
       "      <th>3</th>\n",
       "      <td>/famous/poem/a_total_stranger_one_black_day_408</td>\n",
       "      <td>a total stranger one black day</td>\n",
       "      <td>Edward Estlin (E E) Cummings</td>\n",
       "      <td>a total stranger one black day  knocked living...</td>\n",
       "    </tr>\n",
       "    <tr>\n",
       "      <th>4</th>\n",
       "      <td>/famous/poem/i_float_like_a_butterfly_sting_li...</td>\n",
       "      <td>I float like a butterfly, sting like a bee</td>\n",
       "      <td>Muhammad Ali</td>\n",
       "      <td>I float like a butterfly, sting like a bee</td>\n",
       "    </tr>\n",
       "  </tbody>\n",
       "</table>\n",
       "</div>"
      ],
      "text/plain": [
       "                                                 url  \\\n",
       "0             /famous/poem/im_nobody!_who_are_you_41   \n",
       "1                        /famous/poem/the_lesson_115   \n",
       "2            /famous/poem/the_power_of_a_smile_21350   \n",
       "3    /famous/poem/a_total_stranger_one_black_day_408   \n",
       "4  /famous/poem/i_float_like_a_butterfly_sting_li...   \n",
       "\n",
       "                                        title                        author  \\\n",
       "0                     Im nobody! Who are you?               Emily Dickinson   \n",
       "1                                  The Lesson                  Maya Angelou   \n",
       "2                        The Power of a Smile                  Tupac Shakur   \n",
       "3              a total stranger one black day  Edward Estlin (E E) Cummings   \n",
       "4  I float like a butterfly, sting like a bee                  Muhammad Ali   \n",
       "\n",
       "                                                poem  \n",
       "0  I'm nobody! Who are you?  Are you nobody, too?...  \n",
       "1  I keep on dying again.  Veins collapse, openin...  \n",
       "2  The power of a gun can kill  and the power of ...  \n",
       "3  a total stranger one black day  knocked living...  \n",
       "4         I float like a butterfly, sting like a bee  "
      ]
     },
     "execution_count": 5,
     "metadata": {},
     "output_type": "execute_result"
    }
   ],
   "source": [
    "# strip out newlines\n",
    "df_cleanpoems['poem']=df_cleanpoems['poem'].replace({r'\\r|\\n': ' '}, regex=True)\n",
    "df_cleanpoems.head()"
   ]
  },
  {
   "cell_type": "markdown",
   "metadata": {},
   "source": [
    "**Count words**"
   ]
  },
  {
   "cell_type": "code",
   "execution_count": 29,
   "metadata": {},
   "outputs": [
    {
     "data": {
      "text/html": [
       "<div>\n",
       "<style scoped>\n",
       "    .dataframe tbody tr th:only-of-type {\n",
       "        vertical-align: middle;\n",
       "    }\n",
       "\n",
       "    .dataframe tbody tr th {\n",
       "        vertical-align: top;\n",
       "    }\n",
       "\n",
       "    .dataframe thead th {\n",
       "        text-align: right;\n",
       "    }\n",
       "</style>\n",
       "<table border=\"1\" class=\"dataframe\">\n",
       "  <thead>\n",
       "    <tr style=\"text-align: right;\">\n",
       "      <th></th>\n",
       "      <th>url</th>\n",
       "      <th>title</th>\n",
       "      <th>author</th>\n",
       "      <th>poem</th>\n",
       "      <th>length</th>\n",
       "    </tr>\n",
       "  </thead>\n",
       "  <tbody>\n",
       "    <tr>\n",
       "      <th>0</th>\n",
       "      <td>/famous/poem/im_nobody!_who_are_you_41</td>\n",
       "      <td>Im nobody! Who are you?</td>\n",
       "      <td>Emily Dickinson</td>\n",
       "      <td>I'm nobody! Who are you?  Are you nobody, too?...</td>\n",
       "      <td>44</td>\n",
       "    </tr>\n",
       "    <tr>\n",
       "      <th>1</th>\n",
       "      <td>/famous/poem/the_lesson_115</td>\n",
       "      <td>The Lesson</td>\n",
       "      <td>Maya Angelou</td>\n",
       "      <td>I keep on dying again.  Veins collapse, openin...</td>\n",
       "      <td>56</td>\n",
       "    </tr>\n",
       "    <tr>\n",
       "      <th>2</th>\n",
       "      <td>/famous/poem/the_power_of_a_smile_21350</td>\n",
       "      <td>The Power of a Smile</td>\n",
       "      <td>Tupac Shakur</td>\n",
       "      <td>The power of a gun can kill  and the power of ...</td>\n",
       "      <td>53</td>\n",
       "    </tr>\n",
       "  </tbody>\n",
       "</table>\n",
       "</div>"
      ],
      "text/plain": [
       "                                       url                    title  \\\n",
       "0   /famous/poem/im_nobody!_who_are_you_41  Im nobody! Who are you?   \n",
       "1              /famous/poem/the_lesson_115               The Lesson   \n",
       "2  /famous/poem/the_power_of_a_smile_21350     The Power of a Smile   \n",
       "\n",
       "            author                                               poem  length  \n",
       "0  Emily Dickinson  I'm nobody! Who are you?  Are you nobody, too?...      44  \n",
       "1     Maya Angelou  I keep on dying again.  Veins collapse, openin...      56  \n",
       "2     Tupac Shakur  The power of a gun can kill  and the power of ...      53  "
      ]
     },
     "execution_count": 29,
     "metadata": {},
     "output_type": "execute_result"
    }
   ],
   "source": [
    "df_cleanpoems['length']=df_cleanpoems.poem.apply(lambda x: len(x.split()))\n",
    "df_cleanpoems.head(3)"
   ]
  },
  {
   "cell_type": "markdown",
   "metadata": {},
   "source": [
    "**Encode into ascii, por si acaso**"
   ]
  },
  {
   "cell_type": "code",
   "execution_count": 31,
   "metadata": {},
   "outputs": [
    {
     "data": {
      "text/html": [
       "<div>\n",
       "<style scoped>\n",
       "    .dataframe tbody tr th:only-of-type {\n",
       "        vertical-align: middle;\n",
       "    }\n",
       "\n",
       "    .dataframe tbody tr th {\n",
       "        vertical-align: top;\n",
       "    }\n",
       "\n",
       "    .dataframe thead th {\n",
       "        text-align: right;\n",
       "    }\n",
       "</style>\n",
       "<table border=\"1\" class=\"dataframe\">\n",
       "  <thead>\n",
       "    <tr style=\"text-align: right;\">\n",
       "      <th></th>\n",
       "      <th>url</th>\n",
       "      <th>title</th>\n",
       "      <th>author</th>\n",
       "      <th>poem</th>\n",
       "      <th>length</th>\n",
       "    </tr>\n",
       "  </thead>\n",
       "  <tbody>\n",
       "    <tr>\n",
       "      <th>0</th>\n",
       "      <td>/famous/poem/im_nobody!_who_are_you_41</td>\n",
       "      <td>Im nobody! Who are you?</td>\n",
       "      <td>Emily Dickinson</td>\n",
       "      <td>I'm nobody! Who are you?  Are you nobody, too?...</td>\n",
       "      <td>44</td>\n",
       "    </tr>\n",
       "    <tr>\n",
       "      <th>1</th>\n",
       "      <td>/famous/poem/the_lesson_115</td>\n",
       "      <td>The Lesson</td>\n",
       "      <td>Maya Angelou</td>\n",
       "      <td>I keep on dying again.  Veins collapse, openin...</td>\n",
       "      <td>56</td>\n",
       "    </tr>\n",
       "    <tr>\n",
       "      <th>2</th>\n",
       "      <td>/famous/poem/the_power_of_a_smile_21350</td>\n",
       "      <td>The Power of a Smile</td>\n",
       "      <td>Tupac Shakur</td>\n",
       "      <td>The power of a gun can kill  and the power of ...</td>\n",
       "      <td>53</td>\n",
       "    </tr>\n",
       "  </tbody>\n",
       "</table>\n",
       "</div>"
      ],
      "text/plain": [
       "                                       url                    title  \\\n",
       "0   /famous/poem/im_nobody!_who_are_you_41  Im nobody! Who are you?   \n",
       "1              /famous/poem/the_lesson_115               The Lesson   \n",
       "2  /famous/poem/the_power_of_a_smile_21350     The Power of a Smile   \n",
       "\n",
       "            author                                               poem  length  \n",
       "0  Emily Dickinson  I'm nobody! Who are you?  Are you nobody, too?...      44  \n",
       "1     Maya Angelou  I keep on dying again.  Veins collapse, openin...      56  \n",
       "2     Tupac Shakur  The power of a gun can kill  and the power of ...      53  "
      ]
     },
     "execution_count": 31,
     "metadata": {},
     "output_type": "execute_result"
    }
   ],
   "source": [
    "df_cleanpoems['poem']=df_cleanpoems['poem'].apply(lambda x:  x.encode(\"ascii\",errors='ignore').decode())\n",
    "df_cleanpoems.head(3)"
   ]
  },
  {
   "cell_type": "markdown",
   "metadata": {},
   "source": [
    "**Add full url** "
   ]
  },
  {
   "cell_type": "code",
   "execution_count": 6,
   "metadata": {},
   "outputs": [
    {
     "name": "stdout",
     "output_type": "stream",
     "text": [
      "length of data:   100\n"
     ]
    },
    {
     "data": {
      "text/html": [
       "<div>\n",
       "<style scoped>\n",
       "    .dataframe tbody tr th:only-of-type {\n",
       "        vertical-align: middle;\n",
       "    }\n",
       "\n",
       "    .dataframe tbody tr th {\n",
       "        vertical-align: top;\n",
       "    }\n",
       "\n",
       "    .dataframe thead th {\n",
       "        text-align: right;\n",
       "    }\n",
       "</style>\n",
       "<table border=\"1\" class=\"dataframe\">\n",
       "  <thead>\n",
       "    <tr style=\"text-align: right;\">\n",
       "      <th></th>\n",
       "      <th>url</th>\n",
       "      <th>title</th>\n",
       "      <th>author</th>\n",
       "      <th>poem</th>\n",
       "      <th>length</th>\n",
       "    </tr>\n",
       "  </thead>\n",
       "  <tbody>\n",
       "    <tr>\n",
       "      <th>0</th>\n",
       "      <td>/famous/poem/im_nobody!_who_are_you_41</td>\n",
       "      <td>Im nobody! Who are you?</td>\n",
       "      <td>Emily Dickinson</td>\n",
       "      <td>I'm nobody! Who are you?  Are you nobody, too?...</td>\n",
       "      <td>44</td>\n",
       "    </tr>\n",
       "    <tr>\n",
       "      <th>1</th>\n",
       "      <td>/famous/poem/the_lesson_115</td>\n",
       "      <td>The Lesson</td>\n",
       "      <td>Maya Angelou</td>\n",
       "      <td>I keep on dying again.  Veins collapse, openin...</td>\n",
       "      <td>56</td>\n",
       "    </tr>\n",
       "    <tr>\n",
       "      <th>2</th>\n",
       "      <td>/famous/poem/the_power_of_a_smile_21350</td>\n",
       "      <td>The Power of a Smile</td>\n",
       "      <td>Tupac Shakur</td>\n",
       "      <td>The power of a gun can kill  and the power of ...</td>\n",
       "      <td>53</td>\n",
       "    </tr>\n",
       "    <tr>\n",
       "      <th>3</th>\n",
       "      <td>/famous/poem/a_total_stranger_one_black_day_408</td>\n",
       "      <td>a total stranger one black day</td>\n",
       "      <td>Edward Estlin (E E) Cummings</td>\n",
       "      <td>a total stranger one black day  knocked living...</td>\n",
       "      <td>31</td>\n",
       "    </tr>\n",
       "    <tr>\n",
       "      <th>4</th>\n",
       "      <td>/famous/poem/i_float_like_a_butterfly_sting_li...</td>\n",
       "      <td>I float like a butterfly, sting like a bee</td>\n",
       "      <td>Muhammad Ali</td>\n",
       "      <td>I float like a butterfly, sting like a bee</td>\n",
       "      <td>9</td>\n",
       "    </tr>\n",
       "  </tbody>\n",
       "</table>\n",
       "</div>"
      ],
      "text/plain": [
       "                                                 url  \\\n",
       "0             /famous/poem/im_nobody!_who_are_you_41   \n",
       "1                        /famous/poem/the_lesson_115   \n",
       "2            /famous/poem/the_power_of_a_smile_21350   \n",
       "3    /famous/poem/a_total_stranger_one_black_day_408   \n",
       "4  /famous/poem/i_float_like_a_butterfly_sting_li...   \n",
       "\n",
       "                                        title                        author  \\\n",
       "0                     Im nobody! Who are you?               Emily Dickinson   \n",
       "1                                  The Lesson                  Maya Angelou   \n",
       "2                        The Power of a Smile                  Tupac Shakur   \n",
       "3              a total stranger one black day  Edward Estlin (E E) Cummings   \n",
       "4  I float like a butterfly, sting like a bee                  Muhammad Ali   \n",
       "\n",
       "                                                poem  length  \n",
       "0  I'm nobody! Who are you?  Are you nobody, too?...      44  \n",
       "1  I keep on dying again.  Veins collapse, openin...      56  \n",
       "2  The power of a gun can kill  and the power of ...      53  \n",
       "3  a total stranger one black day  knocked living...      31  \n",
       "4         I float like a butterfly, sting like a bee       9  "
      ]
     },
     "execution_count": 6,
     "metadata": {},
     "output_type": "execute_result"
    }
   ],
   "source": [
    "df_cleanpoems = pd.read_pickle(pkldir + '/' + cleanpoems_fname + '.pkl')\n",
    "print(\"length of data:  \", len(df_cleanpoems))\n",
    "df_cleanpoems.head()"
   ]
  },
  {
   "cell_type": "code",
   "execution_count": 8,
   "metadata": {},
   "outputs": [
    {
     "data": {
      "text/html": [
       "<div>\n",
       "<style scoped>\n",
       "    .dataframe tbody tr th:only-of-type {\n",
       "        vertical-align: middle;\n",
       "    }\n",
       "\n",
       "    .dataframe tbody tr th {\n",
       "        vertical-align: top;\n",
       "    }\n",
       "\n",
       "    .dataframe thead th {\n",
       "        text-align: right;\n",
       "    }\n",
       "</style>\n",
       "<table border=\"1\" class=\"dataframe\">\n",
       "  <thead>\n",
       "    <tr style=\"text-align: right;\">\n",
       "      <th></th>\n",
       "      <th>url</th>\n",
       "      <th>title</th>\n",
       "      <th>author</th>\n",
       "      <th>poem</th>\n",
       "      <th>length</th>\n",
       "    </tr>\n",
       "  </thead>\n",
       "  <tbody>\n",
       "    <tr>\n",
       "      <th>0</th>\n",
       "      <td>https://www.poetrysoup.com/famous/poem/im_nobo...</td>\n",
       "      <td>Im nobody! Who are you?</td>\n",
       "      <td>Emily Dickinson</td>\n",
       "      <td>I'm nobody! Who are you?  Are you nobody, too?...</td>\n",
       "      <td>44</td>\n",
       "    </tr>\n",
       "    <tr>\n",
       "      <th>1</th>\n",
       "      <td>https://www.poetrysoup.com/famous/poem/the_les...</td>\n",
       "      <td>The Lesson</td>\n",
       "      <td>Maya Angelou</td>\n",
       "      <td>I keep on dying again.  Veins collapse, openin...</td>\n",
       "      <td>56</td>\n",
       "    </tr>\n",
       "    <tr>\n",
       "      <th>2</th>\n",
       "      <td>https://www.poetrysoup.com/famous/poem/the_pow...</td>\n",
       "      <td>The Power of a Smile</td>\n",
       "      <td>Tupac Shakur</td>\n",
       "      <td>The power of a gun can kill  and the power of ...</td>\n",
       "      <td>53</td>\n",
       "    </tr>\n",
       "    <tr>\n",
       "      <th>3</th>\n",
       "      <td>https://www.poetrysoup.com/famous/poem/a_total...</td>\n",
       "      <td>a total stranger one black day</td>\n",
       "      <td>Edward Estlin (E E) Cummings</td>\n",
       "      <td>a total stranger one black day  knocked living...</td>\n",
       "      <td>31</td>\n",
       "    </tr>\n",
       "    <tr>\n",
       "      <th>4</th>\n",
       "      <td>https://www.poetrysoup.com/famous/poem/i_float...</td>\n",
       "      <td>I float like a butterfly, sting like a bee</td>\n",
       "      <td>Muhammad Ali</td>\n",
       "      <td>I float like a butterfly, sting like a bee</td>\n",
       "      <td>9</td>\n",
       "    </tr>\n",
       "  </tbody>\n",
       "</table>\n",
       "</div>"
      ],
      "text/plain": [
       "                                                 url  \\\n",
       "0  https://www.poetrysoup.com/famous/poem/im_nobo...   \n",
       "1  https://www.poetrysoup.com/famous/poem/the_les...   \n",
       "2  https://www.poetrysoup.com/famous/poem/the_pow...   \n",
       "3  https://www.poetrysoup.com/famous/poem/a_total...   \n",
       "4  https://www.poetrysoup.com/famous/poem/i_float...   \n",
       "\n",
       "                                        title                        author  \\\n",
       "0                     Im nobody! Who are you?               Emily Dickinson   \n",
       "1                                  The Lesson                  Maya Angelou   \n",
       "2                        The Power of a Smile                  Tupac Shakur   \n",
       "3              a total stranger one black day  Edward Estlin (E E) Cummings   \n",
       "4  I float like a butterfly, sting like a bee                  Muhammad Ali   \n",
       "\n",
       "                                                poem  length  \n",
       "0  I'm nobody! Who are you?  Are you nobody, too?...      44  \n",
       "1  I keep on dying again.  Veins collapse, openin...      56  \n",
       "2  The power of a gun can kill  and the power of ...      53  \n",
       "3  a total stranger one black day  knocked living...      31  \n",
       "4         I float like a butterfly, sting like a bee       9  "
      ]
     },
     "execution_count": 8,
     "metadata": {},
     "output_type": "execute_result"
    }
   ],
   "source": [
    "df_cleanpoems['url'] = main_website + df_cleanpoems.url\n",
    "df_cleanpoems.head()"
   ]
  },
  {
   "cell_type": "markdown",
   "metadata": {},
   "source": [
    "**Save to disk**"
   ]
  },
  {
   "cell_type": "code",
   "execution_count": 9,
   "metadata": {},
   "outputs": [],
   "source": [
    "df_cleanpoems.to_pickle(pkldir + '/' + cleanpoems_fname + '.pkl')\n",
    "df_cleanpoems.to_csv(csvdir + '/' + cleanpoems_fname + '.csv',index=False)"
   ]
  },
  {
   "cell_type": "markdown",
   "metadata": {},
   "source": [
    "**Done!**"
   ]
  }
 ],
 "metadata": {
  "kernelspec": {
   "display_name": "Python 3",
   "language": "python",
   "name": "python3"
  },
  "language_info": {
   "codemirror_mode": {
    "name": "ipython",
    "version": 3
   },
   "file_extension": ".py",
   "mimetype": "text/x-python",
   "name": "python",
   "nbconvert_exporter": "python",
   "pygments_lexer": "ipython3",
   "version": "3.6.4"
  }
 },
 "nbformat": 4,
 "nbformat_minor": 2
}
