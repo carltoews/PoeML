{
 "cells": [
  {
   "cell_type": "markdown",
   "metadata": {},
   "source": [
    "# Scraper:  famouspoetsandpoems.com\n",
    "\n",
    "This script borrows heavily here:  https://github.com/chaimgluck.  It scrapes a ton of poems of all sorts, but is rather indiscriminant:  some poems are huge, some tiny, and themes are all over the place.  All told there are about 35,000 poems on the site.  The script also scrapes themes labels where available.  (About 2600 poems are labelled.)\n",
    "\n",
    "This script is divided into two parts:\n",
    "\n",
    "1.  <a href='#scraping'> Scraping </a>\n",
    "2.  <a href='#cleaning'> Cleaning </a>"
   ]
  },
  {
   "cell_type": "markdown",
   "metadata": {},
   "source": [
    "<a id=\"scraping\"></a>\n",
    "## Part I:  Scraping"
   ]
  },
  {
   "cell_type": "markdown",
   "metadata": {},
   "source": [
    "**Path names:**  As the script scrapes data, it will write the data to a file, and eventually read and write dataframes to/from a data directory.  The following cell should be modified to align with your desired directory configuration.  Note that the use of relative pathnames.  "
   ]
  },
  {
   "cell_type": "code",
   "execution_count": 1,
   "metadata": {},
   "outputs": [],
   "source": [
    "rootdir = \"../data/poems\"         # root directory for all poetry data\n",
    "csvdir   = rootdir + '/csv'       # subdirectory for csv files\n",
    "pkldir   = rootdir + '/pkl'       # subdirectory for pkl files\n",
    "main_website = 'http://www.famouspoetsandpoems.com' # source of all these poems\n",
    "years_fname = 'famouspoets_years'  # place to store year information (can be deleted after script runs)\n",
    "themes_fname = 'famouspoets_themes'# place to store theme information (can be deleted after script runs)\n",
    "rawpoems_fname = 'famouspoets_raw'      # base name of variables and files containing raw, uncleaned poems\n",
    "cleanpoems_fname = 'famouspoets_clean'  # base name for cleaned poems"
   ]
  },
  {
   "cell_type": "markdown",
   "metadata": {},
   "source": [
    "**Import statements:** mostly pandas, beautiful soup and some stirng manipulation."
   ]
  },
  {
   "cell_type": "code",
   "execution_count": 2,
   "metadata": {},
   "outputs": [],
   "source": [
    "import pandas as pd\n",
    "from bs4 import BeautifulSoup\n",
    "import requests\n",
    "import re, os\n",
    "import pickle\n",
    "import numpy as np"
   ]
  },
  {
   "cell_type": "markdown",
   "metadata": {},
   "source": [
    "**Years for each poet**.  The code below scrapes the web page that has the years of each poet's life.  This is one way to separate the poems into eras. "
   ]
  },
  {
   "cell_type": "code",
   "execution_count": 3,
   "metadata": {},
   "outputs": [],
   "source": [
    "# connect to main webpage\n",
    "all_poets = requests.get(main_website + '/poets.html')\n",
    "poets = BeautifulSoup(all_poets.text, 'lxml')\n",
    "\n",
    "poet_years = []\n",
    "\n",
    "# for every row, extract year information\n",
    "for tag in poets.findAll('td'):\n",
    "    try:\n",
    "        if '(' in tag.get_text():\n",
    "            poet_years.append(tag.get_text().strip())\n",
    "    except:\n",
    "        pass"
   ]
  },
  {
   "cell_type": "code",
   "execution_count": 4,
   "metadata": {},
   "outputs": [
    {
     "data": {
      "text/plain": [
       "['Maya Angelou (18)(1928 - present)',\n",
       " 'Maya Angelou (18)(1928 - present)',\n",
       " 'Margaret Atwood (28)(1939 - present)',\n",
       " 'Margaret Atwood (28)(1939 - present)']"
      ]
     },
     "execution_count": 4,
     "metadata": {},
     "output_type": "execute_result"
    }
   ],
   "source": [
    "# take a peak at what we've got\n",
    "poet_years[3:7]"
   ]
  },
  {
   "cell_type": "markdown",
   "metadata": {},
   "source": [
    "Let's clean this up and store it in a dataframe."
   ]
  },
  {
   "cell_type": "code",
   "execution_count": 5,
   "metadata": {},
   "outputs": [
    {
     "data": {
      "text/html": [
       "<div>\n",
       "<style scoped>\n",
       "    .dataframe tbody tr th:only-of-type {\n",
       "        vertical-align: middle;\n",
       "    }\n",
       "\n",
       "    .dataframe tbody tr th {\n",
       "        vertical-align: top;\n",
       "    }\n",
       "\n",
       "    .dataframe thead th {\n",
       "        text-align: right;\n",
       "    }\n",
       "</style>\n",
       "<table border=\"1\" class=\"dataframe\">\n",
       "  <thead>\n",
       "    <tr style=\"text-align: right;\">\n",
       "      <th></th>\n",
       "      <th>name</th>\n",
       "      <th>number</th>\n",
       "      <th>years</th>\n",
       "    </tr>\n",
       "  </thead>\n",
       "  <tbody>\n",
       "    <tr>\n",
       "      <th>0</th>\n",
       "      <td>Maya Angelou</td>\n",
       "      <td>18)</td>\n",
       "      <td>1928 - present)</td>\n",
       "    </tr>\n",
       "    <tr>\n",
       "      <th>1</th>\n",
       "      <td>Margaret Atwood</td>\n",
       "      <td>28)</td>\n",
       "      <td>1939 - present)</td>\n",
       "    </tr>\n",
       "    <tr>\n",
       "      <th>2</th>\n",
       "      <td>Matthew Arnold</td>\n",
       "      <td>45)</td>\n",
       "      <td>1822 - 1888)</td>\n",
       "    </tr>\n",
       "    <tr>\n",
       "      <th>3</th>\n",
       "      <td>Yehuda Amichai</td>\n",
       "      <td>38)</td>\n",
       "      <td>1924 - 2000)</td>\n",
       "    </tr>\n",
       "    <tr>\n",
       "      <th>4</th>\n",
       "      <td>Anna Akhmatova</td>\n",
       "      <td>26)</td>\n",
       "      <td>1889 - 1966)</td>\n",
       "    </tr>\n",
       "  </tbody>\n",
       "</table>\n",
       "</div>"
      ],
      "text/plain": [
       "               name number            years\n",
       "0     Maya Angelou     18)  1928 - present)\n",
       "1  Margaret Atwood     28)  1939 - present)\n",
       "2   Matthew Arnold     45)     1822 - 1888)\n",
       "3   Yehuda Amichai     38)     1924 - 2000)\n",
       "4   Anna Akhmatova     26)     1889 - 1966)"
      ]
     },
     "execution_count": 5,
     "metadata": {},
     "output_type": "execute_result"
    }
   ],
   "source": [
    "poet_years2 = poet_years[3:]\n",
    "poet_years2 = [x.strip() for x in poet_years2]\n",
    "poet_years = poet_years2[::2]\n",
    "poets_and_years = []\n",
    "for i in poet_years:\n",
    "    poets_and_years.append(i.split('('))\n",
    "df_poets_and_years = pd.DataFrame(poets_and_years, columns=['name', 'number', 'years', 'blech'])\n",
    "df_poets_and_years.drop(['blech'], axis=1, inplace=True)\n",
    "df_poets_and_years.head()"
   ]
  },
  {
   "cell_type": "markdown",
   "metadata": {},
   "source": [
    "Let's store the year information to file.  We'll use this information after we scrape the poems themselves, but the this process is long, and possibly error-prone, so saving is a wise precaution.  We'll store it in the current directory and delete it when we're done."
   ]
  },
  {
   "cell_type": "code",
   "execution_count": 6,
   "metadata": {},
   "outputs": [
    {
     "data": {
      "text/html": [
       "<div>\n",
       "<style scoped>\n",
       "    .dataframe tbody tr th:only-of-type {\n",
       "        vertical-align: middle;\n",
       "    }\n",
       "\n",
       "    .dataframe tbody tr th {\n",
       "        vertical-align: top;\n",
       "    }\n",
       "\n",
       "    .dataframe thead th {\n",
       "        text-align: right;\n",
       "    }\n",
       "</style>\n",
       "<table border=\"1\" class=\"dataframe\">\n",
       "  <thead>\n",
       "    <tr style=\"text-align: right;\">\n",
       "      <th></th>\n",
       "      <th>name</th>\n",
       "      <th>number</th>\n",
       "      <th>years</th>\n",
       "    </tr>\n",
       "  </thead>\n",
       "  <tbody>\n",
       "    <tr>\n",
       "      <th>0</th>\n",
       "      <td>Maya Angelou</td>\n",
       "      <td>18)</td>\n",
       "      <td>1928 - present)</td>\n",
       "    </tr>\n",
       "    <tr>\n",
       "      <th>1</th>\n",
       "      <td>Margaret Atwood</td>\n",
       "      <td>28)</td>\n",
       "      <td>1939 - present)</td>\n",
       "    </tr>\n",
       "    <tr>\n",
       "      <th>2</th>\n",
       "      <td>Matthew Arnold</td>\n",
       "      <td>45)</td>\n",
       "      <td>1822 - 1888)</td>\n",
       "    </tr>\n",
       "    <tr>\n",
       "      <th>3</th>\n",
       "      <td>Yehuda Amichai</td>\n",
       "      <td>38)</td>\n",
       "      <td>1924 - 2000)</td>\n",
       "    </tr>\n",
       "    <tr>\n",
       "      <th>4</th>\n",
       "      <td>Anna Akhmatova</td>\n",
       "      <td>26)</td>\n",
       "      <td>1889 - 1966)</td>\n",
       "    </tr>\n",
       "  </tbody>\n",
       "</table>\n",
       "</div>"
      ],
      "text/plain": [
       "               name number            years\n",
       "0     Maya Angelou     18)  1928 - present)\n",
       "1  Margaret Atwood     28)  1939 - present)\n",
       "2   Matthew Arnold     45)     1822 - 1888)\n",
       "3   Yehuda Amichai     38)     1924 - 2000)\n",
       "4   Anna Akhmatova     26)     1889 - 1966)"
      ]
     },
     "execution_count": 6,
     "metadata": {},
     "output_type": "execute_result"
    }
   ],
   "source": [
    "df_poets_and_years.to_csv(years_fname + '.csv', index=False)\n",
    "df_poets_and_years.head()"
   ]
  },
  {
   "cell_type": "markdown",
   "metadata": {},
   "source": [
    "**Scraping a list of themes**:  Some poems are explicitly labelled on the `famoutspoetsandpoems` site.  Here I scrape these themes, along with the associated poems.  "
   ]
  },
  {
   "cell_type": "code",
   "execution_count": 7,
   "metadata": {},
   "outputs": [],
   "source": [
    "# landing page for list of themes\n",
    "all_themes = requests.get(main_website + '/' + 'thematic_poems.html')\n",
    "\n",
    "# get the html from this page\n",
    "all_themes_html = BeautifulSoup(all_themes.text, 'lxml')"
   ]
  },
  {
   "cell_type": "code",
   "execution_count": 8,
   "metadata": {},
   "outputs": [
    {
     "data": {
      "text/plain": [
       "['/thematic_poems/abortion_poems.html',\n",
       " '/thematic_poems/angel_poems.html',\n",
       " '/thematic_poems/animal_poems.html',\n",
       " '/thematic_poems/anniversary_poems.html',\n",
       " '/thematic_poems/april_poems.html']"
      ]
     },
     "execution_count": 8,
     "metadata": {},
     "output_type": "execute_result"
    }
   ],
   "source": [
    "# collect urls for landing page for each theme\n",
    "theme_urls = []\n",
    "for tag in all_themes_html.find_all('li',style=\"padding-bottom:5px;list-style-image: url(/images/_li.gif);padding-right:10px;\"):\n",
    "    theme_urls.append(tag.contents[0].get('href'))\n",
    "# take a peak to make sure things are kosher\n",
    "theme_urls[0:5]"
   ]
  },
  {
   "cell_type": "code",
   "execution_count": 9,
   "metadata": {},
   "outputs": [
    {
     "data": {
      "text/plain": [
       "['abortion', 'angel', 'animal', 'anniversary', 'april']"
      ]
     },
     "execution_count": 9,
     "metadata": {},
     "output_type": "execute_result"
    }
   ],
   "source": [
    "# extract tags to store as labels in database\n",
    "theme_tags = []\n",
    "for url in theme_urls:\n",
    "    m = re.search(r'(/)(\\w+)_poems.html',url)\n",
    "    theme_tags.append(m.group(2))\n",
    "theme_tags[0:5]"
   ]
  },
  {
   "cell_type": "markdown",
   "metadata": {},
   "source": [
    "Here we need to loop over all the \"themes\", for each one scraping the title and author of every poem. We'll store everything as a big list of lists, turning it into a pandas dataframe later."
   ]
  },
  {
   "cell_type": "code",
   "execution_count": 10,
   "metadata": {},
   "outputs": [
    {
     "name": "stdout",
     "output_type": "stream",
     "text": [
      "no text for poem /poets//poems/10095.html\n",
      "no text for poem /poets//poems/10106.html\n",
      "no text for poem /poets//poems/20956.html\n",
      "no text for poem /poets//poems/10109.html\n",
      "no text for poem /poets//poems/10127.html\n",
      "no text for poem /poets//poems/10119.html\n",
      "no text for poem /poets//poems/10158.html\n"
     ]
    }
   ],
   "source": [
    "title_author_theme = []\n",
    "\n",
    "for url in theme_urls:\n",
    "    # serve up html for theme landing page\n",
    "    theme_page = requests.get(main_website+url)\n",
    "    theme_page_soup = BeautifulSoup(theme_page.text, 'lxml')\n",
    "    \n",
    "    # extract simple string for theme name\n",
    "    m = re.search(r'(/)(\\w+)_poems.html',url)\n",
    "    theme_name = m.group(2)\n",
    "\n",
    "    # extract author, title, and poem_url for each poem in this theme, and store, along with theme label\n",
    "    for poem in theme_page_soup.find_all('div',style=\"width:440px;padding-left:12px;padding-top:14px;\"):\n",
    "        title = poem.a.get_text()\n",
    "        author = poem.span.get_text()\n",
    "        poem_url = poem.a.get('href')\n",
    "        poem_page = requests.get(main_website+poem_url)\n",
    "        poem_page_soup = BeautifulSoup(poem_page.text, 'lxml')\n",
    "        text_blob = poem_page_soup.find('div',style=\"padding-left:14px;padding-top:20px;font-family:Arial;font-size:13px;\")\n",
    "        if text_blob:\n",
    "            text = text_blob.get_text()\n",
    "        else:\n",
    "            print(\"no text for poem {}\".format(poem_url))  \n",
    "            text = ''\n",
    "        title_author_theme.append([title,author,theme_name,poem_url,text])"
   ]
  },
  {
   "cell_type": "markdown",
   "metadata": {},
   "source": [
    "Convert to a dataframe, and store as csv. (Store in current directory...we'll delete it when we're done.)"
   ]
  },
  {
   "cell_type": "code",
   "execution_count": 73,
   "metadata": {},
   "outputs": [
    {
     "data": {
      "text/html": [
       "<div>\n",
       "<style scoped>\n",
       "    .dataframe tbody tr th:only-of-type {\n",
       "        vertical-align: middle;\n",
       "    }\n",
       "\n",
       "    .dataframe tbody tr th {\n",
       "        vertical-align: top;\n",
       "    }\n",
       "\n",
       "    .dataframe thead th {\n",
       "        text-align: right;\n",
       "    }\n",
       "</style>\n",
       "<table border=\"1\" class=\"dataframe\">\n",
       "  <thead>\n",
       "    <tr style=\"text-align: right;\">\n",
       "      <th></th>\n",
       "      <th>title</th>\n",
       "      <th>author</th>\n",
       "      <th>theme</th>\n",
       "      <th>poem_url</th>\n",
       "      <th>poem</th>\n",
       "    </tr>\n",
       "  </thead>\n",
       "  <tbody>\n",
       "    <tr>\n",
       "      <th>0</th>\n",
       "      <td>Inferno (English)</td>\n",
       "      <td>by Dante Alighieri</td>\n",
       "      <td>abortion</td>\n",
       "      <td>/poets/dante_alighieri/poems/39.html</td>\n",
       "      <td>\\n\\t\\t\\t\\t\\t\\tCANTO I  ONE night, when half my...</td>\n",
       "    </tr>\n",
       "    <tr>\n",
       "      <th>1</th>\n",
       "      <td>Part 7 of Trout Fishing in America</td>\n",
       "      <td>by Richard Brautigan</td>\n",
       "      <td>abortion</td>\n",
       "      <td>/poets/richard_brautigan/poems/4006.html</td>\n",
       "      <td>\\n\\t\\t\\t\\t\\t\\tTHE PUDDING MASTER OF           ...</td>\n",
       "    </tr>\n",
       "    <tr>\n",
       "      <th>2</th>\n",
       "      <td>The Mother</td>\n",
       "      <td>by Gwendolyn Brooks</td>\n",
       "      <td>abortion</td>\n",
       "      <td>/poets/gwendolyn_brooks/poems/4136.html</td>\n",
       "      <td>\\n\\t\\t\\t\\t\\t\\tAbortions will not let you forge...</td>\n",
       "    </tr>\n",
       "    <tr>\n",
       "      <th>3</th>\n",
       "      <td>The Glove</td>\n",
       "      <td>by Robert Browning</td>\n",
       "      <td>abortion</td>\n",
       "      <td>/poets/robert_browning/poems/4929.html</td>\n",
       "      <td>\\n\\t\\t\\t\\t\\t\\t(PETER RONSARD _loquitur_.)``Hei...</td>\n",
       "    </tr>\n",
       "    <tr>\n",
       "      <th>4</th>\n",
       "      <td>130. Natureâ€™s Law: A Poem</td>\n",
       "      <td>by Robert Burns</td>\n",
       "      <td>abortion</td>\n",
       "      <td>/poets/robert_burns/poems/4989.html</td>\n",
       "      <td>\\n\\t\\t\\t\\t\\t\\tLET other heroes boast their sca...</td>\n",
       "    </tr>\n",
       "  </tbody>\n",
       "</table>\n",
       "</div>"
      ],
      "text/plain": [
       "                                title                 author     theme  \\\n",
       "0                   Inferno (English)     by Dante Alighieri  abortion   \n",
       "1  Part 7 of Trout Fishing in America   by Richard Brautigan  abortion   \n",
       "2                          The Mother    by Gwendolyn Brooks  abortion   \n",
       "3                           The Glove     by Robert Browning  abortion   \n",
       "4         130. Natureâ€™s Law: A Poem        by Robert Burns  abortion   \n",
       "\n",
       "                                   poem_url  \\\n",
       "0      /poets/dante_alighieri/poems/39.html   \n",
       "1  /poets/richard_brautigan/poems/4006.html   \n",
       "2   /poets/gwendolyn_brooks/poems/4136.html   \n",
       "3    /poets/robert_browning/poems/4929.html   \n",
       "4       /poets/robert_burns/poems/4989.html   \n",
       "\n",
       "                                                poem  \n",
       "0  \\n\\t\\t\\t\\t\\t\\tCANTO I  ONE night, when half my...  \n",
       "1  \\n\\t\\t\\t\\t\\t\\tTHE PUDDING MASTER OF           ...  \n",
       "2  \\n\\t\\t\\t\\t\\t\\tAbortions will not let you forge...  \n",
       "3  \\n\\t\\t\\t\\t\\t\\t(PETER RONSARD _loquitur_.)``Hei...  \n",
       "4  \\n\\t\\t\\t\\t\\t\\tLET other heroes boast their sca...  "
      ]
     },
     "execution_count": 73,
     "metadata": {},
     "output_type": "execute_result"
    }
   ],
   "source": [
    "df_themes_and_poems = pd.DataFrame(title_author_theme,columns=['title','author','theme','poem_url','poem'])\n",
    "df_themes_and_poems.to_csv(themes_fname + '.csv',index=False)\n",
    "df_themes_and_poems.head()"
   ]
  },
  {
   "cell_type": "markdown",
   "metadata": {},
   "source": [
    "**Scrape a list of links to each poet's page**. First collect links to each poet's landing page. These pages each contain links to all of that poet's poems. Then collect all the links for all of their poems. Then scrape the actual poem from each of those pages."
   ]
  },
  {
   "cell_type": "code",
   "execution_count": 75,
   "metadata": {},
   "outputs": [
    {
     "data": {
      "text/plain": [
       "['/poets/laurie_lee',\n",
       " '/poets/ezra_pound',\n",
       " '/poets/charles_webb',\n",
       " '/poets/jonas_mekas',\n",
       " '/poets/charles_simic']"
      ]
     },
     "execution_count": 75,
     "metadata": {},
     "output_type": "execute_result"
    }
   ],
   "source": [
    "poet_links = []\n",
    "\n",
    "for tag in poets.findAll('td'):\n",
    "    try:\n",
    "        link = tag.find('a')['href']\n",
    "        if '/poets/' in link:\n",
    "            poet_links.append(link)\n",
    "    except:\n",
    "        pass\n",
    "\n",
    "poet_links = list(set(poet_links))\n",
    "poet_links[0:5]"
   ]
  },
  {
   "cell_type": "markdown",
   "metadata": {},
   "source": [
    "This function collects all the links for individual poems from each poet's landing page. "
   ]
  },
  {
   "cell_type": "code",
   "execution_count": 78,
   "metadata": {},
   "outputs": [],
   "source": [
    "def get_poems(link):\n",
    "    poetry = requests.get(link)\n",
    "    bib_soup = BeautifulSoup(poetry.text, 'lxml')\n",
    "     \n",
    "    poem_links = []\n",
    "    for poems in bib_soup.findAll('td'):\n",
    "        try:\n",
    "            poem = poems.find('a')['href']\n",
    "            if '/poems/' in poem:\n",
    "                poem_links.append(poem)\n",
    "        except:\n",
    "            pass\n",
    "        \n",
    "    poem_links = list(set(poem_links))\n",
    "    poems = []\n",
    "    for poem in poem_links:\n",
    "        poem_link = main_website + poem      \n",
    "        poems.append(poem_link)\n",
    "    return poems"
   ]
  },
  {
   "cell_type": "code",
   "execution_count": 84,
   "metadata": {},
   "outputs": [
    {
     "data": {
      "text/plain": [
       "['http://www.famouspoetsandpoems.com/poets/laurie_lee/poems/6843',\n",
       " 'http://www.famouspoetsandpoems.com/poets/laurie_lee/poems/6839',\n",
       " 'http://www.famouspoetsandpoems.com/poets/laurie_lee/poems/6841',\n",
       " 'http://www.famouspoetsandpoems.com/poets/laurie_lee/poems/6840',\n",
       " 'http://www.famouspoetsandpoems.com/poets/laurie_lee/poems/6842',\n",
       " 'http://www.famouspoetsandpoems.com/poets/laurie_lee/poems/6838']"
      ]
     },
     "execution_count": 84,
     "metadata": {},
     "output_type": "execute_result"
    }
   ],
   "source": [
    "raw = main_website\n",
    "poem_links = []\n",
    "for poet in poet_links:\n",
    "    link = raw + poet + '/poems'\n",
    "    poem_links.append(get_poems(link))\n",
    "poem_links[0]"
   ]
  },
  {
   "cell_type": "markdown",
   "metadata": {},
   "source": [
    "Each element of \"poem_links\" is a list of links to a set of poems from some particular poet. Let's unwind each sublist into a single list. "
   ]
  },
  {
   "cell_type": "code",
   "execution_count": 85,
   "metadata": {},
   "outputs": [
    {
     "data": {
      "text/plain": [
       "['http://www.famouspoetsandpoems.com/poets/laurie_lee/poems/6843',\n",
       " 'http://www.famouspoetsandpoems.com/poets/laurie_lee/poems/6839',\n",
       " 'http://www.famouspoetsandpoems.com/poets/laurie_lee/poems/6841',\n",
       " 'http://www.famouspoetsandpoems.com/poets/laurie_lee/poems/6840',\n",
       " 'http://www.famouspoetsandpoems.com/poets/laurie_lee/poems/6842']"
      ]
     },
     "execution_count": 85,
     "metadata": {},
     "output_type": "execute_result"
    }
   ],
   "source": [
    "poem_links_list = [item for sublist in poem_links for item in sublist]\n",
    "poem_links_list[0:5]"
   ]
  },
  {
   "cell_type": "markdown",
   "metadata": {},
   "source": [
    "**Scraping all the poems from site.** Below, I go to each link in the list of poem pages and scrape the actual poem from the page. "
   ]
  },
  {
   "cell_type": "code",
   "execution_count": 91,
   "metadata": {},
   "outputs": [],
   "source": [
    "df_rawpoems = pd.DataFrame(columns=['url','title','poem','author'])\n",
    "df_rawpoems['url']=poem_links_list\n",
    "df_rawpoems.reset_index(inplace=True,drop=True)"
   ]
  },
  {
   "cell_type": "code",
   "execution_count": 142,
   "metadata": {},
   "outputs": [
    {
     "name": "stdout",
     "output_type": "stream",
     "text": [
      "79 of 344 batches completed\n",
      "80 of 344 batches completed\n",
      "81 of 344 batches completed\n",
      "82 of 344 batches completed\n",
      "83 of 344 batches completed\n",
      "84 of 344 batches completed\n",
      "85 of 344 batches completed\n",
      "86 of 344 batches completed\n",
      "87 of 344 batches completed\n",
      "88 of 344 batches completed\n",
      "89 of 344 batches completed\n",
      "90 of 344 batches completed\n",
      "91 of 344 batches completed\n",
      "92 of 344 batches completed\n",
      "93 of 344 batches completed\n",
      "94 of 344 batches completed\n",
      "95 of 344 batches completed\n",
      "96 of 344 batches completed\n",
      "97 of 344 batches completed\n",
      "98 of 344 batches completed\n",
      "99 of 344 batches completed\n",
      "100 of 344 batches completed\n",
      "101 of 344 batches completed\n",
      "102 of 344 batches completed\n",
      "103 of 344 batches completed\n",
      "104 of 344 batches completed\n",
      "105 of 344 batches completed\n",
      "106 of 344 batches completed\n",
      "107 of 344 batches completed\n",
      "108 of 344 batches completed\n",
      "109 of 344 batches completed\n",
      "110 of 344 batches completed\n",
      "111 of 344 batches completed\n",
      "112 of 344 batches completed\n",
      "113 of 344 batches completed\n",
      "114 of 344 batches completed\n",
      "115 of 344 batches completed\n",
      "116 of 344 batches completed\n",
      "117 of 344 batches completed\n",
      "118 of 344 batches completed\n",
      "119 of 344 batches completed\n",
      "120 of 344 batches completed\n",
      "121 of 344 batches completed\n",
      "122 of 344 batches completed\n",
      "123 of 344 batches completed\n",
      "124 of 344 batches completed\n",
      "125 of 344 batches completed\n",
      "126 of 344 batches completed\n",
      "127 of 344 batches completed\n",
      "128 of 344 batches completed\n",
      "129 of 344 batches completed\n",
      "130 of 344 batches completed\n",
      "131 of 344 batches completed\n",
      "132 of 344 batches completed\n",
      "133 of 344 batches completed\n",
      "134 of 344 batches completed\n",
      "135 of 344 batches completed\n",
      "136 of 344 batches completed\n",
      "137 of 344 batches completed\n",
      "138 of 344 batches completed\n",
      "139 of 344 batches completed\n",
      "140 of 344 batches completed\n",
      "141 of 344 batches completed\n",
      "142 of 344 batches completed\n",
      "143 of 344 batches completed\n",
      "144 of 344 batches completed\n",
      "145 of 344 batches completed\n",
      "146 of 344 batches completed\n",
      "147 of 344 batches completed\n",
      "148 of 344 batches completed\n",
      "149 of 344 batches completed\n",
      "150 of 344 batches completed\n",
      "151 of 344 batches completed\n",
      "152 of 344 batches completed\n",
      "153 of 344 batches completed\n",
      "154 of 344 batches completed\n",
      "155 of 344 batches completed\n",
      "156 of 344 batches completed\n",
      "157 of 344 batches completed\n",
      "158 of 344 batches completed\n",
      "159 of 344 batches completed\n",
      "160 of 344 batches completed\n",
      "161 of 344 batches completed\n",
      "162 of 344 batches completed\n",
      "163 of 344 batches completed\n",
      "164 of 344 batches completed\n",
      "165 of 344 batches completed\n",
      "166 of 344 batches completed\n",
      "167 of 344 batches completed\n",
      "168 of 344 batches completed\n",
      "169 of 344 batches completed\n",
      "170 of 344 batches completed\n",
      "171 of 344 batches completed\n",
      "172 of 344 batches completed\n",
      "173 of 344 batches completed\n",
      "174 of 344 batches completed\n",
      "175 of 344 batches completed\n",
      "176 of 344 batches completed\n",
      "177 of 344 batches completed\n",
      "178 of 344 batches completed\n",
      "179 of 344 batches completed\n",
      "180 of 344 batches completed\n",
      "181 of 344 batches completed\n",
      "182 of 344 batches completed\n",
      "183 of 344 batches completed\n",
      "184 of 344 batches completed\n",
      "185 of 344 batches completed\n",
      "186 of 344 batches completed\n",
      "187 of 344 batches completed\n",
      "188 of 344 batches completed\n",
      "189 of 344 batches completed\n",
      "190 of 344 batches completed\n",
      "191 of 344 batches completed\n",
      "192 of 344 batches completed\n",
      "193 of 344 batches completed\n",
      "194 of 344 batches completed\n",
      "195 of 344 batches completed\n",
      "196 of 344 batches completed\n",
      "197 of 344 batches completed\n",
      "198 of 344 batches completed\n",
      "199 of 344 batches completed\n",
      "200 of 344 batches completed\n",
      "201 of 344 batches completed\n",
      "202 of 344 batches completed\n",
      "203 of 344 batches completed\n",
      "204 of 344 batches completed\n",
      "205 of 344 batches completed\n",
      "206 of 344 batches completed\n",
      "207 of 344 batches completed\n",
      "208 of 344 batches completed\n",
      "209 of 344 batches completed\n",
      "210 of 344 batches completed\n",
      "211 of 344 batches completed\n",
      "212 of 344 batches completed\n",
      "213 of 344 batches completed\n",
      "214 of 344 batches completed\n",
      "215 of 344 batches completed\n",
      "216 of 344 batches completed\n",
      "217 of 344 batches completed\n",
      "218 of 344 batches completed\n",
      "219 of 344 batches completed\n",
      "220 of 344 batches completed\n",
      "221 of 344 batches completed\n",
      "222 of 344 batches completed\n",
      "223 of 344 batches completed\n",
      "224 of 344 batches completed\n",
      "225 of 344 batches completed\n",
      "226 of 344 batches completed\n",
      "227 of 344 batches completed\n",
      "228 of 344 batches completed\n",
      "229 of 344 batches completed\n",
      "230 of 344 batches completed\n",
      "231 of 344 batches completed\n",
      "232 of 344 batches completed\n",
      "233 of 344 batches completed\n",
      "234 of 344 batches completed\n",
      "235 of 344 batches completed\n",
      "236 of 344 batches completed\n",
      "237 of 344 batches completed\n",
      "238 of 344 batches completed\n",
      "239 of 344 batches completed\n",
      "240 of 344 batches completed\n",
      "241 of 344 batches completed\n",
      "242 of 344 batches completed\n",
      "243 of 344 batches completed\n",
      "244 of 344 batches completed\n",
      "245 of 344 batches completed\n",
      "246 of 344 batches completed\n",
      "247 of 344 batches completed\n",
      "248 of 344 batches completed\n",
      "249 of 344 batches completed\n",
      "250 of 344 batches completed\n",
      "251 of 344 batches completed\n",
      "252 of 344 batches completed\n",
      "253 of 344 batches completed\n",
      "254 of 344 batches completed\n",
      "255 of 344 batches completed\n",
      "256 of 344 batches completed\n",
      "257 of 344 batches completed\n",
      "258 of 344 batches completed\n",
      "259 of 344 batches completed\n",
      "260 of 344 batches completed\n",
      "261 of 344 batches completed\n",
      "262 of 344 batches completed\n",
      "263 of 344 batches completed\n",
      "264 of 344 batches completed\n",
      "265 of 344 batches completed\n",
      "266 of 344 batches completed\n",
      "267 of 344 batches completed\n",
      "268 of 344 batches completed\n",
      "269 of 344 batches completed\n",
      "270 of 344 batches completed\n",
      "271 of 344 batches completed\n",
      "272 of 344 batches completed\n",
      "273 of 344 batches completed\n",
      "274 of 344 batches completed\n",
      "275 of 344 batches completed\n",
      "276 of 344 batches completed\n",
      "277 of 344 batches completed\n",
      "278 of 344 batches completed\n",
      "279 of 344 batches completed\n",
      "280 of 344 batches completed\n",
      "281 of 344 batches completed\n",
      "282 of 344 batches completed\n",
      "283 of 344 batches completed\n",
      "284 of 344 batches completed\n",
      "285 of 344 batches completed\n",
      "286 of 344 batches completed\n",
      "287 of 344 batches completed\n",
      "288 of 344 batches completed\n",
      "289 of 344 batches completed\n",
      "290 of 344 batches completed\n",
      "291 of 344 batches completed\n",
      "292 of 344 batches completed\n",
      "293 of 344 batches completed\n",
      "294 of 344 batches completed\n",
      "295 of 344 batches completed\n",
      "296 of 344 batches completed\n",
      "297 of 344 batches completed\n",
      "298 of 344 batches completed\n",
      "299 of 344 batches completed\n",
      "300 of 344 batches completed\n",
      "301 of 344 batches completed\n",
      "302 of 344 batches completed\n",
      "303 of 344 batches completed\n",
      "304 of 344 batches completed\n",
      "305 of 344 batches completed\n",
      "306 of 344 batches completed\n",
      "307 of 344 batches completed\n",
      "308 of 344 batches completed\n",
      "309 of 344 batches completed\n",
      "310 of 344 batches completed\n",
      "311 of 344 batches completed\n",
      "312 of 344 batches completed\n",
      "313 of 344 batches completed\n",
      "314 of 344 batches completed\n",
      "315 of 344 batches completed\n",
      "316 of 344 batches completed\n",
      "317 of 344 batches completed\n",
      "318 of 344 batches completed\n",
      "319 of 344 batches completed\n",
      "320 of 344 batches completed\n",
      "321 of 344 batches completed\n",
      "322 of 344 batches completed\n",
      "323 of 344 batches completed\n",
      "324 of 344 batches completed\n",
      "325 of 344 batches completed\n",
      "326 of 344 batches completed\n",
      "327 of 344 batches completed\n",
      "328 of 344 batches completed\n",
      "329 of 344 batches completed\n",
      "330 of 344 batches completed\n",
      "331 of 344 batches completed\n",
      "332 of 344 batches completed\n",
      "333 of 344 batches completed\n",
      "334 of 344 batches completed\n",
      "335 of 344 batches completed\n",
      "336 of 344 batches completed\n",
      "337 of 344 batches completed\n",
      "338 of 344 batches completed\n",
      "339 of 344 batches completed\n",
      "340 of 344 batches completed\n",
      "341 of 344 batches completed\n",
      "342 of 344 batches completed\n",
      "343 of 344 batches completed\n",
      "344 of 344 batches completed\n"
     ]
    }
   ],
   "source": [
    "# tempory file to store output as it is read...useful for crashes mid-loop\n",
    "outfile = 'temp.csv'\n",
    "# rate at which file is written to and updates reported\n",
    "batchsize = 100\n",
    "nbatches = np.floor(len(df_rawpoems)/batchsize)\n",
    "# for each url...\n",
    "for row in df_rawpoems[7816:].itertuples():\n",
    "    # try to get the poem information\n",
    "    try:\n",
    "        url = requests.get(row.url,timeout=100)\n",
    "    except:\n",
    "        # otherwise, just keep going\n",
    "        continue\n",
    "    soup = BeautifulSoup(url.text, 'lxml')\n",
    "    poem = soup.find('div', style=\"padding-left:14px;padding-top:20px;font-family:Arial;font-size:13px;\")\n",
    "    title = soup.find('span',style=\"font-weight:bold;font-size:16px;color:#3C605B;font-family:Times New Roman;\").get_text()\n",
    "    df_rawpoems.loc[row.Index,['title','poem']] = [title, str(poem)]\n",
    "    # write to file and display progress once in a while\n",
    "    if row.Index % 100 == 0:\n",
    "        print(\"{:1.0f} of {:1.0f} batches completed\".format(row.Index/100,nbatches))\n",
    "        with open(outfile, 'a') as f:\n",
    "            df_rawpoems.to_csv(f, header=False,index=False)"
   ]
  },
  {
   "cell_type": "code",
   "execution_count": 148,
   "metadata": {},
   "outputs": [],
   "source": [
    "# write to file\n",
    "df_rawpoems.to_csv(csvdir + '/' + rawpoems_fname + '.csv',index=False)\n",
    "df_rawpoems.to_pickle(pkldir + '/' + rawpoems_fname + '.pkl')"
   ]
  },
  {
   "cell_type": "code",
   "execution_count": null,
   "metadata": {},
   "outputs": [],
   "source": [
    "# eliminate temporary file\n",
    "try:\n",
    "    os.remove(outfile)\n",
    "except OSError:\n",
    "    pass"
   ]
  },
  {
   "cell_type": "code",
   "execution_count": 150,
   "metadata": {},
   "outputs": [
    {
     "data": {
      "text/plain": [
       "url       http://www.famouspoetsandpoems.com/poets/ezra_...\n",
       "title                        Cantico del Sole by Ezra Pound\n",
       "poem      <div style=\"padding-left:14px;padding-top:20px...\n",
       "author                                     by Carl Sandburg\n",
       "Name: 0, dtype: object"
      ]
     },
     "execution_count": 150,
     "metadata": {},
     "output_type": "execute_result"
    }
   ],
   "source": [
    "## Just a peek at what we're dealing with. It will need cleaning.\n",
    "df_rawpoems.loc[0,:]"
   ]
  },
  {
   "cell_type": "markdown",
   "metadata": {},
   "source": [
    "<a id=\"cleaning\"></a>\n",
    "## Part II:  Cleaning"
   ]
  },
  {
   "cell_type": "markdown",
   "metadata": {},
   "source": [
    "**Load data**:  Let's take a quick peak at the data"
   ]
  },
  {
   "cell_type": "code",
   "execution_count": 22,
   "metadata": {},
   "outputs": [
    {
     "name": "stdout",
     "output_type": "stream",
     "text": [
      "size of data:   34472\n"
     ]
    },
    {
     "data": {
      "text/html": [
       "<div>\n",
       "<style scoped>\n",
       "    .dataframe tbody tr th:only-of-type {\n",
       "        vertical-align: middle;\n",
       "    }\n",
       "\n",
       "    .dataframe tbody tr th {\n",
       "        vertical-align: top;\n",
       "    }\n",
       "\n",
       "    .dataframe thead th {\n",
       "        text-align: right;\n",
       "    }\n",
       "</style>\n",
       "<table border=\"1\" class=\"dataframe\">\n",
       "  <thead>\n",
       "    <tr style=\"text-align: right;\">\n",
       "      <th></th>\n",
       "      <th>url</th>\n",
       "      <th>title</th>\n",
       "      <th>poem</th>\n",
       "      <th>author</th>\n",
       "    </tr>\n",
       "  </thead>\n",
       "  <tbody>\n",
       "    <tr>\n",
       "      <th>0</th>\n",
       "      <td>http://www.famouspoetsandpoems.com/poets/ezra_...</td>\n",
       "      <td>Cantico del Sole by Ezra Pound</td>\n",
       "      <td>&lt;div style=\"padding-left:14px;padding-top:20px...</td>\n",
       "      <td>by Carl Sandburg</td>\n",
       "    </tr>\n",
       "    <tr>\n",
       "      <th>1</th>\n",
       "      <td>http://www.famouspoetsandpoems.com/poets/ezra_...</td>\n",
       "      <td>Taking Leave of a Friend by Ezra Pound</td>\n",
       "      <td>&lt;div style=\"padding-left:14px;padding-top:20px...</td>\n",
       "      <td>by Carl Sandburg</td>\n",
       "    </tr>\n",
       "    <tr>\n",
       "      <th>2</th>\n",
       "      <td>http://www.famouspoetsandpoems.com/poets/ezra_...</td>\n",
       "      <td>These Fought in Any Case by Ezra Pound</td>\n",
       "      <td>&lt;div style=\"padding-left:14px;padding-top:20px...</td>\n",
       "      <td>by Carl Sandburg</td>\n",
       "    </tr>\n",
       "    <tr>\n",
       "      <th>3</th>\n",
       "      <td>http://www.famouspoetsandpoems.com/poets/ezra_...</td>\n",
       "      <td>Silet by Ezra Pound</td>\n",
       "      <td>&lt;div style=\"padding-left:14px;padding-top:20px...</td>\n",
       "      <td>by Carl Sandburg</td>\n",
       "    </tr>\n",
       "    <tr>\n",
       "      <th>4</th>\n",
       "      <td>http://www.famouspoetsandpoems.com/poets/ezra_...</td>\n",
       "      <td>The Return by Ezra Pound</td>\n",
       "      <td>&lt;div style=\"padding-left:14px;padding-top:20px...</td>\n",
       "      <td>by Carl Sandburg</td>\n",
       "    </tr>\n",
       "  </tbody>\n",
       "</table>\n",
       "</div>"
      ],
      "text/plain": [
       "                                                 url  \\\n",
       "0  http://www.famouspoetsandpoems.com/poets/ezra_...   \n",
       "1  http://www.famouspoetsandpoems.com/poets/ezra_...   \n",
       "2  http://www.famouspoetsandpoems.com/poets/ezra_...   \n",
       "3  http://www.famouspoetsandpoems.com/poets/ezra_...   \n",
       "4  http://www.famouspoetsandpoems.com/poets/ezra_...   \n",
       "\n",
       "                                    title  \\\n",
       "0          Cantico del Sole by Ezra Pound   \n",
       "1  Taking Leave of a Friend by Ezra Pound   \n",
       "2  These Fought in Any Case by Ezra Pound   \n",
       "3                     Silet by Ezra Pound   \n",
       "4                The Return by Ezra Pound   \n",
       "\n",
       "                                                poem            author  \n",
       "0  <div style=\"padding-left:14px;padding-top:20px...  by Carl Sandburg  \n",
       "1  <div style=\"padding-left:14px;padding-top:20px...  by Carl Sandburg  \n",
       "2  <div style=\"padding-left:14px;padding-top:20px...  by Carl Sandburg  \n",
       "3  <div style=\"padding-left:14px;padding-top:20px...  by Carl Sandburg  \n",
       "4  <div style=\"padding-left:14px;padding-top:20px...  by Carl Sandburg  "
      ]
     },
     "execution_count": 22,
     "metadata": {},
     "output_type": "execute_result"
    }
   ],
   "source": [
    "df_cleanpoems = pd.read_csv(csvdir + '/' + rawpoems_fname + '.csv')\n",
    "print(\"size of data:  \", len(df_cleanpoems))\n",
    "df_cleanpoems.head()"
   ]
  },
  {
   "cell_type": "markdown",
   "metadata": {},
   "source": [
    "**Separate title and author information.**  The 'title' column contains both title and author.  Let's split them.  \"By\" would be a good word to split on.  Of course it could show up in titles.  But it most likely won't show up in author names.  So we'll do a right split, and take the last element for the author name."
   ]
  },
  {
   "cell_type": "code",
   "execution_count": 23,
   "metadata": {},
   "outputs": [
    {
     "data": {
      "text/html": [
       "<div>\n",
       "<style scoped>\n",
       "    .dataframe tbody tr th:only-of-type {\n",
       "        vertical-align: middle;\n",
       "    }\n",
       "\n",
       "    .dataframe tbody tr th {\n",
       "        vertical-align: top;\n",
       "    }\n",
       "\n",
       "    .dataframe thead th {\n",
       "        text-align: right;\n",
       "    }\n",
       "</style>\n",
       "<table border=\"1\" class=\"dataframe\">\n",
       "  <thead>\n",
       "    <tr style=\"text-align: right;\">\n",
       "      <th></th>\n",
       "      <th>url</th>\n",
       "      <th>title</th>\n",
       "      <th>poem</th>\n",
       "      <th>author</th>\n",
       "    </tr>\n",
       "  </thead>\n",
       "  <tbody>\n",
       "    <tr>\n",
       "      <th>0</th>\n",
       "      <td>http://www.famouspoetsandpoems.com/poets/ezra_...</td>\n",
       "      <td>Cantico del Sole</td>\n",
       "      <td>&lt;div style=\"padding-left:14px;padding-top:20px...</td>\n",
       "      <td>Ezra Pound</td>\n",
       "    </tr>\n",
       "    <tr>\n",
       "      <th>1</th>\n",
       "      <td>http://www.famouspoetsandpoems.com/poets/ezra_...</td>\n",
       "      <td>Taking Leave of a Friend</td>\n",
       "      <td>&lt;div style=\"padding-left:14px;padding-top:20px...</td>\n",
       "      <td>Ezra Pound</td>\n",
       "    </tr>\n",
       "    <tr>\n",
       "      <th>2</th>\n",
       "      <td>http://www.famouspoetsandpoems.com/poets/ezra_...</td>\n",
       "      <td>These Fought in Any Case</td>\n",
       "      <td>&lt;div style=\"padding-left:14px;padding-top:20px...</td>\n",
       "      <td>Ezra Pound</td>\n",
       "    </tr>\n",
       "    <tr>\n",
       "      <th>3</th>\n",
       "      <td>http://www.famouspoetsandpoems.com/poets/ezra_...</td>\n",
       "      <td>Silet</td>\n",
       "      <td>&lt;div style=\"padding-left:14px;padding-top:20px...</td>\n",
       "      <td>Ezra Pound</td>\n",
       "    </tr>\n",
       "    <tr>\n",
       "      <th>4</th>\n",
       "      <td>http://www.famouspoetsandpoems.com/poets/ezra_...</td>\n",
       "      <td>The Return</td>\n",
       "      <td>&lt;div style=\"padding-left:14px;padding-top:20px...</td>\n",
       "      <td>Ezra Pound</td>\n",
       "    </tr>\n",
       "  </tbody>\n",
       "</table>\n",
       "</div>"
      ],
      "text/plain": [
       "                                                 url  \\\n",
       "0  http://www.famouspoetsandpoems.com/poets/ezra_...   \n",
       "1  http://www.famouspoetsandpoems.com/poets/ezra_...   \n",
       "2  http://www.famouspoetsandpoems.com/poets/ezra_...   \n",
       "3  http://www.famouspoetsandpoems.com/poets/ezra_...   \n",
       "4  http://www.famouspoetsandpoems.com/poets/ezra_...   \n",
       "\n",
       "                       title  \\\n",
       "0          Cantico del Sole    \n",
       "1  Taking Leave of a Friend    \n",
       "2  These Fought in Any Case    \n",
       "3                     Silet    \n",
       "4                The Return    \n",
       "\n",
       "                                                poem       author  \n",
       "0  <div style=\"padding-left:14px;padding-top:20px...   Ezra Pound  \n",
       "1  <div style=\"padding-left:14px;padding-top:20px...   Ezra Pound  \n",
       "2  <div style=\"padding-left:14px;padding-top:20px...   Ezra Pound  \n",
       "3  <div style=\"padding-left:14px;padding-top:20px...   Ezra Pound  \n",
       "4  <div style=\"padding-left:14px;padding-top:20px...   Ezra Pound  "
      ]
     },
     "execution_count": 23,
     "metadata": {},
     "output_type": "execute_result"
    }
   ],
   "source": [
    "df_cleanpoems[['title','author']] = df_cleanpoems.title.str.rsplit('by',n=1,expand=True)\n",
    "df_cleanpoems.head()"
   ]
  },
  {
   "cell_type": "markdown",
   "metadata": {},
   "source": [
    "**Join  theme information.**  We scraped theme information separately from the poems themselves.  We'll need to join them."
   ]
  },
  {
   "cell_type": "code",
   "execution_count": 24,
   "metadata": {},
   "outputs": [
    {
     "name": "stdout",
     "output_type": "stream",
     "text": [
      "number of poems with theme info:   2661\n"
     ]
    },
    {
     "data": {
      "text/html": [
       "<div>\n",
       "<style scoped>\n",
       "    .dataframe tbody tr th:only-of-type {\n",
       "        vertical-align: middle;\n",
       "    }\n",
       "\n",
       "    .dataframe tbody tr th {\n",
       "        vertical-align: top;\n",
       "    }\n",
       "\n",
       "    .dataframe thead th {\n",
       "        text-align: right;\n",
       "    }\n",
       "</style>\n",
       "<table border=\"1\" class=\"dataframe\">\n",
       "  <thead>\n",
       "    <tr style=\"text-align: right;\">\n",
       "      <th></th>\n",
       "      <th>title</th>\n",
       "      <th>author</th>\n",
       "      <th>theme</th>\n",
       "      <th>poem_url</th>\n",
       "      <th>poem</th>\n",
       "    </tr>\n",
       "  </thead>\n",
       "  <tbody>\n",
       "    <tr>\n",
       "      <th>0</th>\n",
       "      <td>Inferno (English)</td>\n",
       "      <td>by Dante Alighieri</td>\n",
       "      <td>abortion</td>\n",
       "      <td>/poets/dante_alighieri/poems/39.html</td>\n",
       "      <td>\\n\\t\\t\\t\\t\\t\\tCANTO I  ONE night, when half my...</td>\n",
       "    </tr>\n",
       "    <tr>\n",
       "      <th>1</th>\n",
       "      <td>Part 7 of Trout Fishing in America</td>\n",
       "      <td>by Richard Brautigan</td>\n",
       "      <td>abortion</td>\n",
       "      <td>/poets/richard_brautigan/poems/4006.html</td>\n",
       "      <td>\\n\\t\\t\\t\\t\\t\\tTHE PUDDING MASTER OF           ...</td>\n",
       "    </tr>\n",
       "    <tr>\n",
       "      <th>2</th>\n",
       "      <td>The Mother</td>\n",
       "      <td>by Gwendolyn Brooks</td>\n",
       "      <td>abortion</td>\n",
       "      <td>/poets/gwendolyn_brooks/poems/4136.html</td>\n",
       "      <td>\\n\\t\\t\\t\\t\\t\\tAbortions will not let you forge...</td>\n",
       "    </tr>\n",
       "    <tr>\n",
       "      <th>3</th>\n",
       "      <td>The Glove</td>\n",
       "      <td>by Robert Browning</td>\n",
       "      <td>abortion</td>\n",
       "      <td>/poets/robert_browning/poems/4929.html</td>\n",
       "      <td>\\n\\t\\t\\t\\t\\t\\t(PETER RONSARD _loquitur_.)``Hei...</td>\n",
       "    </tr>\n",
       "    <tr>\n",
       "      <th>4</th>\n",
       "      <td>130. Natureâ€™s Law: A Poem</td>\n",
       "      <td>by Robert Burns</td>\n",
       "      <td>abortion</td>\n",
       "      <td>/poets/robert_burns/poems/4989.html</td>\n",
       "      <td>\\n\\t\\t\\t\\t\\t\\tLET other heroes boast their sca...</td>\n",
       "    </tr>\n",
       "  </tbody>\n",
       "</table>\n",
       "</div>"
      ],
      "text/plain": [
       "                                title                 author     theme  \\\n",
       "0                   Inferno (English)     by Dante Alighieri  abortion   \n",
       "1  Part 7 of Trout Fishing in America   by Richard Brautigan  abortion   \n",
       "2                          The Mother    by Gwendolyn Brooks  abortion   \n",
       "3                           The Glove     by Robert Browning  abortion   \n",
       "4         130. Natureâ€™s Law: A Poem        by Robert Burns  abortion   \n",
       "\n",
       "                                   poem_url  \\\n",
       "0      /poets/dante_alighieri/poems/39.html   \n",
       "1  /poets/richard_brautigan/poems/4006.html   \n",
       "2   /poets/gwendolyn_brooks/poems/4136.html   \n",
       "3    /poets/robert_browning/poems/4929.html   \n",
       "4       /poets/robert_burns/poems/4989.html   \n",
       "\n",
       "                                                poem  \n",
       "0  \\n\\t\\t\\t\\t\\t\\tCANTO I  ONE night, when half my...  \n",
       "1  \\n\\t\\t\\t\\t\\t\\tTHE PUDDING MASTER OF           ...  \n",
       "2  \\n\\t\\t\\t\\t\\t\\tAbortions will not let you forge...  \n",
       "3  \\n\\t\\t\\t\\t\\t\\t(PETER RONSARD _loquitur_.)``Hei...  \n",
       "4  \\n\\t\\t\\t\\t\\t\\tLET other heroes boast their sca...  "
      ]
     },
     "execution_count": 24,
     "metadata": {},
     "output_type": "execute_result"
    }
   ],
   "source": [
    "# load the theme data\n",
    "df_themes = pd.read_csv(themes_fname + '.csv')\n",
    "print('number of poems with theme info:  ',len(df_themes))\n",
    "df_themes.head()"
   ]
  },
  {
   "cell_type": "markdown",
   "metadata": {},
   "source": [
    "We have theme information for less than 10% of the poems, but it's still useful info, so let's add it.  We have urls for both themes and the full poem df, but they'll need some doctoring to be brought into the same format for subsequent joining.  "
   ]
  },
  {
   "cell_type": "code",
   "execution_count": 25,
   "metadata": {},
   "outputs": [],
   "source": [
    "# remove prefix from first set\n",
    "df_cleanpoems['simple_url'] = df_cleanpoems.url.str.replace('http://www.famouspoetsandpoems.com','')\n",
    "# remove suffice from second set\n",
    "df_themes['simple_url'] = df_themes.poem_url.str.strip().str.replace('.html','')"
   ]
  },
  {
   "cell_type": "code",
   "execution_count": 26,
   "metadata": {},
   "outputs": [
    {
     "data": {
      "text/plain": [
       "0    /poets/ezra_pound/poems/18819\n",
       "1    /poets/ezra_pound/poems/18808\n",
       "2    /poets/ezra_pound/poems/18827\n",
       "3    /poets/ezra_pound/poems/18825\n",
       "4    /poets/ezra_pound/poems/18786\n",
       "Name: simple_url, dtype: object"
      ]
     },
     "execution_count": 26,
     "metadata": {},
     "output_type": "execute_result"
    }
   ],
   "source": [
    "df_cleanpoems.simple_url.head()"
   ]
  },
  {
   "cell_type": "code",
   "execution_count": 27,
   "metadata": {},
   "outputs": [
    {
     "data": {
      "text/plain": [
       "0        /poets/dante_alighieri/poems/39\n",
       "1    /poets/richard_brautigan/poems/4006\n",
       "2     /poets/gwendolyn_brooks/poems/4136\n",
       "3      /poets/robert_browning/poems/4929\n",
       "4         /poets/robert_burns/poems/4989\n",
       "Name: simple_url, dtype: object"
      ]
     },
     "execution_count": 27,
     "metadata": {},
     "output_type": "execute_result"
    }
   ],
   "source": [
    "df_themes.simple_url.head()"
   ]
  },
  {
   "cell_type": "markdown",
   "metadata": {},
   "source": [
    "OK, the urls are in the same format.  Now we'll use a left join to tack on theme labels if they exist.  But we'll need to gather themes as a list, since one poem might be assigned to more than one theme."
   ]
  },
  {
   "cell_type": "code",
   "execution_count": 28,
   "metadata": {},
   "outputs": [],
   "source": [
    "df_themes.set_index('simple_url',inplace=True)\n",
    "df_themes['themes'] = df_themes.groupby('simple_url').apply(lambda x: x.theme.tolist())\n",
    "df_themes.reset_index(inplace=True)\n",
    "df_themes.drop_duplicates(subset='simple_url',inplace=True)\n",
    "del df_themes['theme']\n",
    "df_cleanpoems = pd.merge(df_cleanpoems, df_themes[['simple_url','themes']], how='left', on='simple_url')"
   ]
  },
  {
   "cell_type": "code",
   "execution_count": 29,
   "metadata": {},
   "outputs": [
    {
     "name": "stdout",
     "output_type": "stream",
     "text": [
      "The length of the merged data set:   34472\n"
     ]
    },
    {
     "data": {
      "text/html": [
       "<div>\n",
       "<style scoped>\n",
       "    .dataframe tbody tr th:only-of-type {\n",
       "        vertical-align: middle;\n",
       "    }\n",
       "\n",
       "    .dataframe tbody tr th {\n",
       "        vertical-align: top;\n",
       "    }\n",
       "\n",
       "    .dataframe thead th {\n",
       "        text-align: right;\n",
       "    }\n",
       "</style>\n",
       "<table border=\"1\" class=\"dataframe\">\n",
       "  <thead>\n",
       "    <tr style=\"text-align: right;\">\n",
       "      <th></th>\n",
       "      <th>url</th>\n",
       "      <th>title</th>\n",
       "      <th>poem</th>\n",
       "      <th>author</th>\n",
       "      <th>simple_url</th>\n",
       "      <th>themes</th>\n",
       "    </tr>\n",
       "  </thead>\n",
       "  <tbody>\n",
       "    <tr>\n",
       "      <th>0</th>\n",
       "      <td>http://www.famouspoetsandpoems.com/poets/ezra_...</td>\n",
       "      <td>Cantico del Sole</td>\n",
       "      <td>&lt;div style=\"padding-left:14px;padding-top:20px...</td>\n",
       "      <td>Ezra Pound</td>\n",
       "      <td>/poets/ezra_pound/poems/18819</td>\n",
       "      <td>NaN</td>\n",
       "    </tr>\n",
       "    <tr>\n",
       "      <th>1</th>\n",
       "      <td>http://www.famouspoetsandpoems.com/poets/ezra_...</td>\n",
       "      <td>Taking Leave of a Friend</td>\n",
       "      <td>&lt;div style=\"padding-left:14px;padding-top:20px...</td>\n",
       "      <td>Ezra Pound</td>\n",
       "      <td>/poets/ezra_pound/poems/18808</td>\n",
       "      <td>NaN</td>\n",
       "    </tr>\n",
       "    <tr>\n",
       "      <th>2</th>\n",
       "      <td>http://www.famouspoetsandpoems.com/poets/ezra_...</td>\n",
       "      <td>These Fought in Any Case</td>\n",
       "      <td>&lt;div style=\"padding-left:14px;padding-top:20px...</td>\n",
       "      <td>Ezra Pound</td>\n",
       "      <td>/poets/ezra_pound/poems/18827</td>\n",
       "      <td>NaN</td>\n",
       "    </tr>\n",
       "    <tr>\n",
       "      <th>3</th>\n",
       "      <td>http://www.famouspoetsandpoems.com/poets/ezra_...</td>\n",
       "      <td>Silet</td>\n",
       "      <td>&lt;div style=\"padding-left:14px;padding-top:20px...</td>\n",
       "      <td>Ezra Pound</td>\n",
       "      <td>/poets/ezra_pound/poems/18825</td>\n",
       "      <td>NaN</td>\n",
       "    </tr>\n",
       "    <tr>\n",
       "      <th>4</th>\n",
       "      <td>http://www.famouspoetsandpoems.com/poets/ezra_...</td>\n",
       "      <td>The Return</td>\n",
       "      <td>&lt;div style=\"padding-left:14px;padding-top:20px...</td>\n",
       "      <td>Ezra Pound</td>\n",
       "      <td>/poets/ezra_pound/poems/18786</td>\n",
       "      <td>NaN</td>\n",
       "    </tr>\n",
       "  </tbody>\n",
       "</table>\n",
       "</div>"
      ],
      "text/plain": [
       "                                                 url  \\\n",
       "0  http://www.famouspoetsandpoems.com/poets/ezra_...   \n",
       "1  http://www.famouspoetsandpoems.com/poets/ezra_...   \n",
       "2  http://www.famouspoetsandpoems.com/poets/ezra_...   \n",
       "3  http://www.famouspoetsandpoems.com/poets/ezra_...   \n",
       "4  http://www.famouspoetsandpoems.com/poets/ezra_...   \n",
       "\n",
       "                       title  \\\n",
       "0          Cantico del Sole    \n",
       "1  Taking Leave of a Friend    \n",
       "2  These Fought in Any Case    \n",
       "3                     Silet    \n",
       "4                The Return    \n",
       "\n",
       "                                                poem       author  \\\n",
       "0  <div style=\"padding-left:14px;padding-top:20px...   Ezra Pound   \n",
       "1  <div style=\"padding-left:14px;padding-top:20px...   Ezra Pound   \n",
       "2  <div style=\"padding-left:14px;padding-top:20px...   Ezra Pound   \n",
       "3  <div style=\"padding-left:14px;padding-top:20px...   Ezra Pound   \n",
       "4  <div style=\"padding-left:14px;padding-top:20px...   Ezra Pound   \n",
       "\n",
       "                      simple_url themes  \n",
       "0  /poets/ezra_pound/poems/18819    NaN  \n",
       "1  /poets/ezra_pound/poems/18808    NaN  \n",
       "2  /poets/ezra_pound/poems/18827    NaN  \n",
       "3  /poets/ezra_pound/poems/18825    NaN  \n",
       "4  /poets/ezra_pound/poems/18786    NaN  "
      ]
     },
     "execution_count": 29,
     "metadata": {},
     "output_type": "execute_result"
    }
   ],
   "source": [
    "print(\"The length of the merged data set:  \", len(df_cleanpoems))\n",
    "df_cleanpoems.head()"
   ]
  },
  {
   "cell_type": "markdown",
   "metadata": {},
   "source": [
    "Good!  Looks like the resulting df is the same size as the original, meaning that there were no duplicate urls in the right hand frame.  "
   ]
  },
  {
   "cell_type": "markdown",
   "metadata": {},
   "source": [
    "**Drop nulls**"
   ]
  },
  {
   "cell_type": "code",
   "execution_count": 33,
   "metadata": {},
   "outputs": [
    {
     "data": {
      "text/plain": [
       "34471"
      ]
     },
     "execution_count": 33,
     "metadata": {},
     "output_type": "execute_result"
    }
   ],
   "source": [
    "df_cleanpoems = df_cleanpoems.loc[~df_cleanpoems.poem.isnull(),:]\n",
    "df_cleanpoems = df_cleanpoems.loc[~df_cleanpoems.author.isnull(),:]\n",
    "df_cleanpoems = df_cleanpoems.loc[~df_cleanpoems.title.isnull(),:]\n",
    "len(df_cleanpoems)"
   ]
  },
  {
   "cell_type": "markdown",
   "metadata": {},
   "source": [
    "**Encoding and stripping**\n",
    "\n",
    "Note above that some of the characters in these poems are non-ascii.  Let's strip such characters, as well as white space. But first, we need to make sure that we drop any Null values that might have crept into our theme lists."
   ]
  },
  {
   "cell_type": "code",
   "execution_count": 35,
   "metadata": {},
   "outputs": [
    {
     "data": {
      "text/html": [
       "<div>\n",
       "<style scoped>\n",
       "    .dataframe tbody tr th:only-of-type {\n",
       "        vertical-align: middle;\n",
       "    }\n",
       "\n",
       "    .dataframe tbody tr th {\n",
       "        vertical-align: top;\n",
       "    }\n",
       "\n",
       "    .dataframe thead th {\n",
       "        text-align: right;\n",
       "    }\n",
       "</style>\n",
       "<table border=\"1\" class=\"dataframe\">\n",
       "  <thead>\n",
       "    <tr style=\"text-align: right;\">\n",
       "      <th></th>\n",
       "      <th>url</th>\n",
       "      <th>title</th>\n",
       "      <th>poem</th>\n",
       "      <th>author</th>\n",
       "      <th>simple_url</th>\n",
       "      <th>themes</th>\n",
       "    </tr>\n",
       "  </thead>\n",
       "  <tbody>\n",
       "    <tr>\n",
       "      <th>0</th>\n",
       "      <td>http://www.famouspoetsandpoems.com/poets/ezra_...</td>\n",
       "      <td>Cantico del Sole</td>\n",
       "      <td>&lt;div style=\"padding-left:14px;padding-top:20px...</td>\n",
       "      <td>Ezra Pound</td>\n",
       "      <td>/poets/ezra_pound/poems/18819</td>\n",
       "      <td>NaN</td>\n",
       "    </tr>\n",
       "    <tr>\n",
       "      <th>1</th>\n",
       "      <td>http://www.famouspoetsandpoems.com/poets/ezra_...</td>\n",
       "      <td>Taking Leave of a Friend</td>\n",
       "      <td>&lt;div style=\"padding-left:14px;padding-top:20px...</td>\n",
       "      <td>Ezra Pound</td>\n",
       "      <td>/poets/ezra_pound/poems/18808</td>\n",
       "      <td>NaN</td>\n",
       "    </tr>\n",
       "    <tr>\n",
       "      <th>2</th>\n",
       "      <td>http://www.famouspoetsandpoems.com/poets/ezra_...</td>\n",
       "      <td>These Fought in Any Case</td>\n",
       "      <td>&lt;div style=\"padding-left:14px;padding-top:20px...</td>\n",
       "      <td>Ezra Pound</td>\n",
       "      <td>/poets/ezra_pound/poems/18827</td>\n",
       "      <td>NaN</td>\n",
       "    </tr>\n",
       "    <tr>\n",
       "      <th>3</th>\n",
       "      <td>http://www.famouspoetsandpoems.com/poets/ezra_...</td>\n",
       "      <td>Silet</td>\n",
       "      <td>&lt;div style=\"padding-left:14px;padding-top:20px...</td>\n",
       "      <td>Ezra Pound</td>\n",
       "      <td>/poets/ezra_pound/poems/18825</td>\n",
       "      <td>NaN</td>\n",
       "    </tr>\n",
       "    <tr>\n",
       "      <th>4</th>\n",
       "      <td>http://www.famouspoetsandpoems.com/poets/ezra_...</td>\n",
       "      <td>The Return</td>\n",
       "      <td>&lt;div style=\"padding-left:14px;padding-top:20px...</td>\n",
       "      <td>Ezra Pound</td>\n",
       "      <td>/poets/ezra_pound/poems/18786</td>\n",
       "      <td>NaN</td>\n",
       "    </tr>\n",
       "  </tbody>\n",
       "</table>\n",
       "</div>"
      ],
      "text/plain": [
       "                                                 url  \\\n",
       "0  http://www.famouspoetsandpoems.com/poets/ezra_...   \n",
       "1  http://www.famouspoetsandpoems.com/poets/ezra_...   \n",
       "2  http://www.famouspoetsandpoems.com/poets/ezra_...   \n",
       "3  http://www.famouspoetsandpoems.com/poets/ezra_...   \n",
       "4  http://www.famouspoetsandpoems.com/poets/ezra_...   \n",
       "\n",
       "                      title  \\\n",
       "0          Cantico del Sole   \n",
       "1  Taking Leave of a Friend   \n",
       "2  These Fought in Any Case   \n",
       "3                     Silet   \n",
       "4                The Return   \n",
       "\n",
       "                                                poem      author  \\\n",
       "0  <div style=\"padding-left:14px;padding-top:20px...  Ezra Pound   \n",
       "1  <div style=\"padding-left:14px;padding-top:20px...  Ezra Pound   \n",
       "2  <div style=\"padding-left:14px;padding-top:20px...  Ezra Pound   \n",
       "3  <div style=\"padding-left:14px;padding-top:20px...  Ezra Pound   \n",
       "4  <div style=\"padding-left:14px;padding-top:20px...  Ezra Pound   \n",
       "\n",
       "                      simple_url themes  \n",
       "0  /poets/ezra_pound/poems/18819    NaN  \n",
       "1  /poets/ezra_pound/poems/18808    NaN  \n",
       "2  /poets/ezra_pound/poems/18827    NaN  \n",
       "3  /poets/ezra_pound/poems/18825    NaN  \n",
       "4  /poets/ezra_pound/poems/18786    NaN  "
      ]
     },
     "execution_count": 35,
     "metadata": {},
     "output_type": "execute_result"
    }
   ],
   "source": [
    "str_fields = ['poem','title','author']\n",
    "\n",
    "for field in str_fields:\n",
    "    df_cleanpoems[field]=df_cleanpoems[field].apply(lambda x:  x.encode(\"ascii\",errors='ignore').decode())\n",
    "    df_cleanpoems[field]=df_cleanpoems[field].str.strip()\n",
    "    \n",
    "df_cleanpoems.head()"
   ]
  },
  {
   "cell_type": "markdown",
   "metadata": {},
   "source": [
    "**Drop lead html**\n",
    "\n",
    "Let's see what work each poem is going to need.  "
   ]
  },
  {
   "cell_type": "code",
   "execution_count": 37,
   "metadata": {},
   "outputs": [
    {
     "data": {
      "text/plain": [
       "'<div style=\"padding-left:14px;padding-top:20px;font-family:Arial;font-size:13px;\">\\n\\t\\t\\t\\t\\t\\tThe thought of what America would be like<br/>If the Classics had a wide circulation<br/>       Troubles my sleep,<br/>The thought of what America,<br/>The thought of what America,The thought of what America would be like<br/>If the Classics had a wide circulation<br/>      Troubles my sleep.<br/>Nunc dimittis, now lettest thou thy servant,<br/>Now lettest thou thy servant<br/>       Depart in peace.<br/>The thought of what America,<br/>The thought of what America,<br/>The thought of what America would be like<br/>If the Classics had a wide circulation...<br/>       Oh well!<br/>       It troubles my sleep.\\t\\t\\t\\t\\t\\t</div>'"
      ]
     },
     "execution_count": 37,
     "metadata": {},
     "output_type": "execute_result"
    }
   ],
   "source": [
    "df_cleanpoems.poem[0]"
   ]
  },
  {
   "cell_type": "markdown",
   "metadata": {},
   "source": [
    "In general, each line is separated by a < br\\>.  Not sure we can bank on this for all poems, especially those of a more narrative form.  Also looks like the poem proper begins after a succession of six tabs.  We'll start by split on breaks, and trying to leading and trailing html info.  Let's see to what extent this pattern runs through the data."
   ]
  },
  {
   "cell_type": "code",
   "execution_count": 38,
   "metadata": {},
   "outputs": [
    {
     "data": {
      "text/plain": [
       "34413"
      ]
     },
     "execution_count": 38,
     "metadata": {},
     "output_type": "execute_result"
    }
   ],
   "source": [
    "idx = df_cleanpoems.poem.str.contains('\\t\\t\\t\\t\\t\\t')\n",
    "np.sum(idx)"
   ]
  },
  {
   "cell_type": "markdown",
   "metadata": {},
   "source": [
    "OK, most of the poems contain the six-fold tab, but some don't.  We'll need to process the two batches differently."
   ]
  },
  {
   "cell_type": "code",
   "execution_count": 39,
   "metadata": {},
   "outputs": [
    {
     "data": {
      "text/html": [
       "<div>\n",
       "<style scoped>\n",
       "    .dataframe tbody tr th:only-of-type {\n",
       "        vertical-align: middle;\n",
       "    }\n",
       "\n",
       "    .dataframe tbody tr th {\n",
       "        vertical-align: top;\n",
       "    }\n",
       "\n",
       "    .dataframe thead th {\n",
       "        text-align: right;\n",
       "    }\n",
       "</style>\n",
       "<table border=\"1\" class=\"dataframe\">\n",
       "  <thead>\n",
       "    <tr style=\"text-align: right;\">\n",
       "      <th></th>\n",
       "      <th>url</th>\n",
       "      <th>title</th>\n",
       "      <th>poem</th>\n",
       "      <th>author</th>\n",
       "      <th>simple_url</th>\n",
       "      <th>themes</th>\n",
       "      <th>poem_clean</th>\n",
       "    </tr>\n",
       "  </thead>\n",
       "  <tbody>\n",
       "    <tr>\n",
       "      <th>0</th>\n",
       "      <td>http://www.famouspoetsandpoems.com/poets/ezra_...</td>\n",
       "      <td>Cantico del Sole</td>\n",
       "      <td>&lt;div style=\"padding-left:14px;padding-top:20px...</td>\n",
       "      <td>Ezra Pound</td>\n",
       "      <td>/poets/ezra_pound/poems/18819</td>\n",
       "      <td>NaN</td>\n",
       "      <td>The thought of what America would be like&lt;br/&gt;...</td>\n",
       "    </tr>\n",
       "    <tr>\n",
       "      <th>1</th>\n",
       "      <td>http://www.famouspoetsandpoems.com/poets/ezra_...</td>\n",
       "      <td>Taking Leave of a Friend</td>\n",
       "      <td>&lt;div style=\"padding-left:14px;padding-top:20px...</td>\n",
       "      <td>Ezra Pound</td>\n",
       "      <td>/poets/ezra_pound/poems/18808</td>\n",
       "      <td>NaN</td>\n",
       "      <td>Blue mountains to the north of the walls,&lt;br/&gt;...</td>\n",
       "    </tr>\n",
       "    <tr>\n",
       "      <th>2</th>\n",
       "      <td>http://www.famouspoetsandpoems.com/poets/ezra_...</td>\n",
       "      <td>These Fought in Any Case</td>\n",
       "      <td>&lt;div style=\"padding-left:14px;padding-top:20px...</td>\n",
       "      <td>Ezra Pound</td>\n",
       "      <td>/poets/ezra_pound/poems/18827</td>\n",
       "      <td>NaN</td>\n",
       "      <td>These fought in any case,&lt;br/&gt;and some believi...</td>\n",
       "    </tr>\n",
       "    <tr>\n",
       "      <th>3</th>\n",
       "      <td>http://www.famouspoetsandpoems.com/poets/ezra_...</td>\n",
       "      <td>Silet</td>\n",
       "      <td>&lt;div style=\"padding-left:14px;padding-top:20px...</td>\n",
       "      <td>Ezra Pound</td>\n",
       "      <td>/poets/ezra_pound/poems/18825</td>\n",
       "      <td>NaN</td>\n",
       "      <td>When I behold how black, immortal ink&lt;br/&gt;Drip...</td>\n",
       "    </tr>\n",
       "    <tr>\n",
       "      <th>4</th>\n",
       "      <td>http://www.famouspoetsandpoems.com/poets/ezra_...</td>\n",
       "      <td>The Return</td>\n",
       "      <td>&lt;div style=\"padding-left:14px;padding-top:20px...</td>\n",
       "      <td>Ezra Pound</td>\n",
       "      <td>/poets/ezra_pound/poems/18786</td>\n",
       "      <td>NaN</td>\n",
       "      <td>See, they return; ah, see the tentative&lt;br/&gt;  ...</td>\n",
       "    </tr>\n",
       "  </tbody>\n",
       "</table>\n",
       "</div>"
      ],
      "text/plain": [
       "                                                 url  \\\n",
       "0  http://www.famouspoetsandpoems.com/poets/ezra_...   \n",
       "1  http://www.famouspoetsandpoems.com/poets/ezra_...   \n",
       "2  http://www.famouspoetsandpoems.com/poets/ezra_...   \n",
       "3  http://www.famouspoetsandpoems.com/poets/ezra_...   \n",
       "4  http://www.famouspoetsandpoems.com/poets/ezra_...   \n",
       "\n",
       "                      title  \\\n",
       "0          Cantico del Sole   \n",
       "1  Taking Leave of a Friend   \n",
       "2  These Fought in Any Case   \n",
       "3                     Silet   \n",
       "4                The Return   \n",
       "\n",
       "                                                poem      author  \\\n",
       "0  <div style=\"padding-left:14px;padding-top:20px...  Ezra Pound   \n",
       "1  <div style=\"padding-left:14px;padding-top:20px...  Ezra Pound   \n",
       "2  <div style=\"padding-left:14px;padding-top:20px...  Ezra Pound   \n",
       "3  <div style=\"padding-left:14px;padding-top:20px...  Ezra Pound   \n",
       "4  <div style=\"padding-left:14px;padding-top:20px...  Ezra Pound   \n",
       "\n",
       "                      simple_url themes  \\\n",
       "0  /poets/ezra_pound/poems/18819    NaN   \n",
       "1  /poets/ezra_pound/poems/18808    NaN   \n",
       "2  /poets/ezra_pound/poems/18827    NaN   \n",
       "3  /poets/ezra_pound/poems/18825    NaN   \n",
       "4  /poets/ezra_pound/poems/18786    NaN   \n",
       "\n",
       "                                          poem_clean  \n",
       "0  The thought of what America would be like<br/>...  \n",
       "1  Blue mountains to the north of the walls,<br/>...  \n",
       "2  These fought in any case,<br/>and some believi...  \n",
       "3  When I behold how black, immortal ink<br/>Drip...  \n",
       "4  See, they return; ah, see the tentative<br/>  ...  "
      ]
     },
     "execution_count": 39,
     "metadata": {},
     "output_type": "execute_result"
    }
   ],
   "source": [
    "df_cleanpoems.loc[idx,'poem_clean'] = df_cleanpoems.loc[idx,'poem'].apply(lambda x: x.split('\\t\\t\\t\\t\\t\\t')[1])\n",
    "df_cleanpoems.head()"
   ]
  },
  {
   "cell_type": "markdown",
   "metadata": {},
   "source": [
    "It remains to get rid of html tags.  Let's first see what's going on with the poems without the six-fold tab."
   ]
  },
  {
   "cell_type": "code",
   "execution_count": 40,
   "metadata": {},
   "outputs": [
    {
     "data": {
      "text/plain": [
       "58"
      ]
     },
     "execution_count": 40,
     "metadata": {},
     "output_type": "execute_result"
    }
   ],
   "source": [
    "#ix = np.where(~idx==True)[0]\n",
    "len(df_cleanpoems.loc[~idx,:])"
   ]
  },
  {
   "cell_type": "markdown",
   "metadata": {},
   "source": [
    "There are only 58 poems that don't fit the paradigm.  Out of 35000, that's not many.  Let's drop these."
   ]
  },
  {
   "cell_type": "code",
   "execution_count": 41,
   "metadata": {},
   "outputs": [],
   "source": [
    "df_cleanpoems = df_cleanpoems.loc[idx,:]"
   ]
  },
  {
   "cell_type": "markdown",
   "metadata": {},
   "source": [
    "**Clean out remaining junk**  We need to get rid of returns, newlines, and breaks."
   ]
  },
  {
   "cell_type": "code",
   "execution_count": 42,
   "metadata": {},
   "outputs": [
    {
     "data": {
      "text/plain": [
       "0    The thought of what America would be like If t...\n",
       "1    Blue mountains to the north of the walls, Whit...\n",
       "2    These fought in any case, and some believing p...\n",
       "3    When I behold how black, immortal ink Drips fr...\n",
       "4    See, they return; ah, see the tentative      M...\n",
       "Name: poem_clean, dtype: object"
      ]
     },
     "execution_count": 42,
     "metadata": {},
     "output_type": "execute_result"
    }
   ],
   "source": [
    "df_cleanpoems.poem_clean = df_cleanpoems.poem_clean.replace({r'\\r|\\n|<br/>': ' '}, regex=True)\n",
    "df_cleanpoems.poem_clean.head()"
   ]
  },
  {
   "cell_type": "markdown",
   "metadata": {},
   "source": [
    "Looks OK!  Let's delete the messy poems, and rename the clean ones."
   ]
  },
  {
   "cell_type": "code",
   "execution_count": 43,
   "metadata": {},
   "outputs": [
    {
     "data": {
      "text/html": [
       "<div>\n",
       "<style scoped>\n",
       "    .dataframe tbody tr th:only-of-type {\n",
       "        vertical-align: middle;\n",
       "    }\n",
       "\n",
       "    .dataframe tbody tr th {\n",
       "        vertical-align: top;\n",
       "    }\n",
       "\n",
       "    .dataframe thead th {\n",
       "        text-align: right;\n",
       "    }\n",
       "</style>\n",
       "<table border=\"1\" class=\"dataframe\">\n",
       "  <thead>\n",
       "    <tr style=\"text-align: right;\">\n",
       "      <th></th>\n",
       "      <th>url</th>\n",
       "      <th>title</th>\n",
       "      <th>author</th>\n",
       "      <th>simple_url</th>\n",
       "      <th>themes</th>\n",
       "      <th>poem</th>\n",
       "    </tr>\n",
       "  </thead>\n",
       "  <tbody>\n",
       "    <tr>\n",
       "      <th>0</th>\n",
       "      <td>http://www.famouspoetsandpoems.com/poets/ezra_...</td>\n",
       "      <td>Cantico del Sole</td>\n",
       "      <td>Ezra Pound</td>\n",
       "      <td>/poets/ezra_pound/poems/18819</td>\n",
       "      <td>NaN</td>\n",
       "      <td>The thought of what America would be like If t...</td>\n",
       "    </tr>\n",
       "    <tr>\n",
       "      <th>1</th>\n",
       "      <td>http://www.famouspoetsandpoems.com/poets/ezra_...</td>\n",
       "      <td>Taking Leave of a Friend</td>\n",
       "      <td>Ezra Pound</td>\n",
       "      <td>/poets/ezra_pound/poems/18808</td>\n",
       "      <td>NaN</td>\n",
       "      <td>Blue mountains to the north of the walls, Whit...</td>\n",
       "    </tr>\n",
       "    <tr>\n",
       "      <th>2</th>\n",
       "      <td>http://www.famouspoetsandpoems.com/poets/ezra_...</td>\n",
       "      <td>These Fought in Any Case</td>\n",
       "      <td>Ezra Pound</td>\n",
       "      <td>/poets/ezra_pound/poems/18827</td>\n",
       "      <td>NaN</td>\n",
       "      <td>These fought in any case, and some believing p...</td>\n",
       "    </tr>\n",
       "    <tr>\n",
       "      <th>3</th>\n",
       "      <td>http://www.famouspoetsandpoems.com/poets/ezra_...</td>\n",
       "      <td>Silet</td>\n",
       "      <td>Ezra Pound</td>\n",
       "      <td>/poets/ezra_pound/poems/18825</td>\n",
       "      <td>NaN</td>\n",
       "      <td>When I behold how black, immortal ink Drips fr...</td>\n",
       "    </tr>\n",
       "    <tr>\n",
       "      <th>4</th>\n",
       "      <td>http://www.famouspoetsandpoems.com/poets/ezra_...</td>\n",
       "      <td>The Return</td>\n",
       "      <td>Ezra Pound</td>\n",
       "      <td>/poets/ezra_pound/poems/18786</td>\n",
       "      <td>NaN</td>\n",
       "      <td>See, they return; ah, see the tentative      M...</td>\n",
       "    </tr>\n",
       "  </tbody>\n",
       "</table>\n",
       "</div>"
      ],
      "text/plain": [
       "                                                 url  \\\n",
       "0  http://www.famouspoetsandpoems.com/poets/ezra_...   \n",
       "1  http://www.famouspoetsandpoems.com/poets/ezra_...   \n",
       "2  http://www.famouspoetsandpoems.com/poets/ezra_...   \n",
       "3  http://www.famouspoetsandpoems.com/poets/ezra_...   \n",
       "4  http://www.famouspoetsandpoems.com/poets/ezra_...   \n",
       "\n",
       "                      title      author                     simple_url themes  \\\n",
       "0          Cantico del Sole  Ezra Pound  /poets/ezra_pound/poems/18819    NaN   \n",
       "1  Taking Leave of a Friend  Ezra Pound  /poets/ezra_pound/poems/18808    NaN   \n",
       "2  These Fought in Any Case  Ezra Pound  /poets/ezra_pound/poems/18827    NaN   \n",
       "3                     Silet  Ezra Pound  /poets/ezra_pound/poems/18825    NaN   \n",
       "4                The Return  Ezra Pound  /poets/ezra_pound/poems/18786    NaN   \n",
       "\n",
       "                                                poem  \n",
       "0  The thought of what America would be like If t...  \n",
       "1  Blue mountains to the north of the walls, Whit...  \n",
       "2  These fought in any case, and some believing p...  \n",
       "3  When I behold how black, immortal ink Drips fr...  \n",
       "4  See, they return; ah, see the tentative      M...  "
      ]
     },
     "execution_count": 43,
     "metadata": {},
     "output_type": "execute_result"
    }
   ],
   "source": [
    "del df_cleanpoems['poem']\n",
    "df_cleanpoems.rename(columns={'poem_clean':'poem'},inplace=True)\n",
    "df_cleanpoems.head()"
   ]
  },
  {
   "cell_type": "markdown",
   "metadata": {},
   "source": [
    "**Add dates**\n",
    "\n",
    "Let's add a 'years' columns to the cleaned data."
   ]
  },
  {
   "cell_type": "code",
   "execution_count": 45,
   "metadata": {},
   "outputs": [
    {
     "data": {
      "text/html": [
       "<div>\n",
       "<style scoped>\n",
       "    .dataframe tbody tr th:only-of-type {\n",
       "        vertical-align: middle;\n",
       "    }\n",
       "\n",
       "    .dataframe tbody tr th {\n",
       "        vertical-align: top;\n",
       "    }\n",
       "\n",
       "    .dataframe thead th {\n",
       "        text-align: right;\n",
       "    }\n",
       "</style>\n",
       "<table border=\"1\" class=\"dataframe\">\n",
       "  <thead>\n",
       "    <tr style=\"text-align: right;\">\n",
       "      <th></th>\n",
       "      <th>name</th>\n",
       "      <th>number</th>\n",
       "      <th>years</th>\n",
       "    </tr>\n",
       "  </thead>\n",
       "  <tbody>\n",
       "    <tr>\n",
       "      <th>0</th>\n",
       "      <td>Maya Angelou</td>\n",
       "      <td>18)</td>\n",
       "      <td>1928 - present)</td>\n",
       "    </tr>\n",
       "    <tr>\n",
       "      <th>1</th>\n",
       "      <td>Margaret Atwood</td>\n",
       "      <td>28)</td>\n",
       "      <td>1939 - present)</td>\n",
       "    </tr>\n",
       "    <tr>\n",
       "      <th>2</th>\n",
       "      <td>Matthew Arnold</td>\n",
       "      <td>45)</td>\n",
       "      <td>1822 - 1888)</td>\n",
       "    </tr>\n",
       "  </tbody>\n",
       "</table>\n",
       "</div>"
      ],
      "text/plain": [
       "               name number            years\n",
       "0     Maya Angelou     18)  1928 - present)\n",
       "1  Margaret Atwood     28)  1939 - present)\n",
       "2   Matthew Arnold     45)     1822 - 1888)"
      ]
     },
     "execution_count": 45,
     "metadata": {},
     "output_type": "execute_result"
    }
   ],
   "source": [
    "years = pd.read_csv(years_fname + '.csv')\n",
    "years.head(3)"
   ]
  },
  {
   "cell_type": "code",
   "execution_count": 46,
   "metadata": {},
   "outputs": [
    {
     "data": {
      "text/html": [
       "<div>\n",
       "<style scoped>\n",
       "    .dataframe tbody tr th:only-of-type {\n",
       "        vertical-align: middle;\n",
       "    }\n",
       "\n",
       "    .dataframe tbody tr th {\n",
       "        vertical-align: top;\n",
       "    }\n",
       "\n",
       "    .dataframe thead th {\n",
       "        text-align: right;\n",
       "    }\n",
       "</style>\n",
       "<table border=\"1\" class=\"dataframe\">\n",
       "  <thead>\n",
       "    <tr style=\"text-align: right;\">\n",
       "      <th></th>\n",
       "      <th>name</th>\n",
       "      <th>number</th>\n",
       "      <th>birth</th>\n",
       "      <th>death</th>\n",
       "    </tr>\n",
       "  </thead>\n",
       "  <tbody>\n",
       "    <tr>\n",
       "      <th>0</th>\n",
       "      <td>Maya Angelou</td>\n",
       "      <td>18</td>\n",
       "      <td>1928</td>\n",
       "      <td>present</td>\n",
       "    </tr>\n",
       "    <tr>\n",
       "      <th>1</th>\n",
       "      <td>Margaret Atwood</td>\n",
       "      <td>28</td>\n",
       "      <td>1939</td>\n",
       "      <td>present</td>\n",
       "    </tr>\n",
       "    <tr>\n",
       "      <th>2</th>\n",
       "      <td>Matthew Arnold</td>\n",
       "      <td>45</td>\n",
       "      <td>1822</td>\n",
       "      <td>1888</td>\n",
       "    </tr>\n",
       "  </tbody>\n",
       "</table>\n",
       "</div>"
      ],
      "text/plain": [
       "               name number  birth     death\n",
       "0     Maya Angelou      18  1928    present\n",
       "1  Margaret Atwood      28  1939    present\n",
       "2   Matthew Arnold      45  1822       1888"
      ]
     },
     "execution_count": 46,
     "metadata": {},
     "output_type": "execute_result"
    }
   ],
   "source": [
    "years = years.apply(lambda x: x.str.replace(')', ''))\n",
    "years['birth'] = years.years.apply(lambda x: x.split('-')[0])\n",
    "years['death'] = years.years.apply(lambda x: x.split('-')[-1])\n",
    "years.drop('years', axis=1, inplace=True)\n",
    "#years.to_csv('years-cleaned.csv', index=False)\n",
    "years.head(3)"
   ]
  },
  {
   "cell_type": "code",
   "execution_count": 47,
   "metadata": {},
   "outputs": [
    {
     "data": {
      "text/html": [
       "<div>\n",
       "<style scoped>\n",
       "    .dataframe tbody tr th:only-of-type {\n",
       "        vertical-align: middle;\n",
       "    }\n",
       "\n",
       "    .dataframe tbody tr th {\n",
       "        vertical-align: top;\n",
       "    }\n",
       "\n",
       "    .dataframe thead th {\n",
       "        text-align: right;\n",
       "    }\n",
       "</style>\n",
       "<table border=\"1\" class=\"dataframe\">\n",
       "  <thead>\n",
       "    <tr style=\"text-align: right;\">\n",
       "      <th></th>\n",
       "      <th>name</th>\n",
       "      <th>number</th>\n",
       "      <th>birth</th>\n",
       "      <th>death</th>\n",
       "    </tr>\n",
       "  </thead>\n",
       "  <tbody>\n",
       "    <tr>\n",
       "      <th>0</th>\n",
       "      <td>Maya Angelou</td>\n",
       "      <td>18</td>\n",
       "      <td>1928</td>\n",
       "      <td>present</td>\n",
       "    </tr>\n",
       "    <tr>\n",
       "      <th>1</th>\n",
       "      <td>Margaret Atwood</td>\n",
       "      <td>28</td>\n",
       "      <td>1939</td>\n",
       "      <td>present</td>\n",
       "    </tr>\n",
       "    <tr>\n",
       "      <th>2</th>\n",
       "      <td>Matthew Arnold</td>\n",
       "      <td>45</td>\n",
       "      <td>1822</td>\n",
       "      <td>1888</td>\n",
       "    </tr>\n",
       "  </tbody>\n",
       "</table>\n",
       "</div>"
      ],
      "text/plain": [
       "              name number  birth     death\n",
       "0     Maya Angelou     18  1928    present\n",
       "1  Margaret Atwood     28  1939    present\n",
       "2   Matthew Arnold     45  1822       1888"
      ]
     },
     "execution_count": 47,
     "metadata": {},
     "output_type": "execute_result"
    }
   ],
   "source": [
    "years.name = years.name.apply(lambda x: x.strip())\n",
    "years.head(3)"
   ]
  },
  {
   "cell_type": "code",
   "execution_count": 48,
   "metadata": {},
   "outputs": [
    {
     "data": {
      "text/html": [
       "<div>\n",
       "<style scoped>\n",
       "    .dataframe tbody tr th:only-of-type {\n",
       "        vertical-align: middle;\n",
       "    }\n",
       "\n",
       "    .dataframe tbody tr th {\n",
       "        vertical-align: top;\n",
       "    }\n",
       "\n",
       "    .dataframe thead th {\n",
       "        text-align: right;\n",
       "    }\n",
       "</style>\n",
       "<table border=\"1\" class=\"dataframe\">\n",
       "  <thead>\n",
       "    <tr style=\"text-align: right;\">\n",
       "      <th></th>\n",
       "      <th>name</th>\n",
       "      <th>number</th>\n",
       "      <th>birth</th>\n",
       "      <th>death</th>\n",
       "    </tr>\n",
       "  </thead>\n",
       "  <tbody>\n",
       "    <tr>\n",
       "      <th>425</th>\n",
       "      <td>Vlanes</td>\n",
       "      <td>Vladislav Nekliaev</td>\n",
       "      <td>13</td>\n",
       "      <td>13</td>\n",
       "    </tr>\n",
       "  </tbody>\n",
       "</table>\n",
       "</div>"
      ],
      "text/plain": [
       "       name               number birth death\n",
       "425  Vlanes  Vladislav Nekliaev     13    13"
      ]
     },
     "execution_count": 48,
     "metadata": {},
     "output_type": "execute_result"
    }
   ],
   "source": [
    "years[years.name == 'Vlanes']"
   ]
  },
  {
   "cell_type": "code",
   "execution_count": 49,
   "metadata": {},
   "outputs": [
    {
     "data": {
      "text/plain": [
       "name        Vlanes\n",
       "number          13\n",
       "birth         1969\n",
       "death      present\n",
       "Name: 425, dtype: object"
      ]
     },
     "execution_count": 49,
     "metadata": {},
     "output_type": "execute_result"
    }
   ],
   "source": [
    "years.iloc[425] = ['Vlanes', 13, '1969', ' present'] \n",
    "years.iloc[425]"
   ]
  },
  {
   "cell_type": "code",
   "execution_count": 50,
   "metadata": {},
   "outputs": [
    {
     "data": {
      "text/plain": [
       "name      object\n",
       "number     int64\n",
       "birth      int64\n",
       "death      int64\n",
       "dtype: object"
      ]
     },
     "execution_count": 50,
     "metadata": {},
     "output_type": "execute_result"
    }
   ],
   "source": [
    "years.number = years.number.astype(int)\n",
    "years.birth = years.birth.astype(int)\n",
    "years.death = [' 2016' if x == ' present' else x for x in years.death]\n",
    "years.death = years.death.astype(int)\n",
    "years.dtypes"
   ]
  },
  {
   "cell_type": "code",
   "execution_count": 51,
   "metadata": {},
   "outputs": [],
   "source": [
    "df_cleanpoems = df_cleanpoems.merge(years, left_on='author',right_on='name')"
   ]
  },
  {
   "cell_type": "code",
   "execution_count": 52,
   "metadata": {},
   "outputs": [
    {
     "data": {
      "text/html": [
       "<div>\n",
       "<style scoped>\n",
       "    .dataframe tbody tr th:only-of-type {\n",
       "        vertical-align: middle;\n",
       "    }\n",
       "\n",
       "    .dataframe tbody tr th {\n",
       "        vertical-align: top;\n",
       "    }\n",
       "\n",
       "    .dataframe thead th {\n",
       "        text-align: right;\n",
       "    }\n",
       "</style>\n",
       "<table border=\"1\" class=\"dataframe\">\n",
       "  <thead>\n",
       "    <tr style=\"text-align: right;\">\n",
       "      <th></th>\n",
       "      <th>url</th>\n",
       "      <th>title</th>\n",
       "      <th>author</th>\n",
       "      <th>simple_url</th>\n",
       "      <th>themes</th>\n",
       "      <th>poem</th>\n",
       "      <th>name</th>\n",
       "      <th>number</th>\n",
       "      <th>birth</th>\n",
       "      <th>death</th>\n",
       "    </tr>\n",
       "  </thead>\n",
       "  <tbody>\n",
       "    <tr>\n",
       "      <th>0</th>\n",
       "      <td>http://www.famouspoetsandpoems.com/poets/ezra_...</td>\n",
       "      <td>Cantico del Sole</td>\n",
       "      <td>Ezra Pound</td>\n",
       "      <td>/poets/ezra_pound/poems/18819</td>\n",
       "      <td>NaN</td>\n",
       "      <td>The thought of what America would be like If t...</td>\n",
       "      <td>Ezra Pound</td>\n",
       "      <td>71</td>\n",
       "      <td>1885</td>\n",
       "      <td>1972</td>\n",
       "    </tr>\n",
       "    <tr>\n",
       "      <th>1</th>\n",
       "      <td>http://www.famouspoetsandpoems.com/poets/ezra_...</td>\n",
       "      <td>Taking Leave of a Friend</td>\n",
       "      <td>Ezra Pound</td>\n",
       "      <td>/poets/ezra_pound/poems/18808</td>\n",
       "      <td>NaN</td>\n",
       "      <td>Blue mountains to the north of the walls, Whit...</td>\n",
       "      <td>Ezra Pound</td>\n",
       "      <td>71</td>\n",
       "      <td>1885</td>\n",
       "      <td>1972</td>\n",
       "    </tr>\n",
       "  </tbody>\n",
       "</table>\n",
       "</div>"
      ],
      "text/plain": [
       "                                                 url  \\\n",
       "0  http://www.famouspoetsandpoems.com/poets/ezra_...   \n",
       "1  http://www.famouspoetsandpoems.com/poets/ezra_...   \n",
       "\n",
       "                      title      author                     simple_url themes  \\\n",
       "0          Cantico del Sole  Ezra Pound  /poets/ezra_pound/poems/18819    NaN   \n",
       "1  Taking Leave of a Friend  Ezra Pound  /poets/ezra_pound/poems/18808    NaN   \n",
       "\n",
       "                                                poem        name  number  \\\n",
       "0  The thought of what America would be like If t...  Ezra Pound      71   \n",
       "1  Blue mountains to the north of the walls, Whit...  Ezra Pound      71   \n",
       "\n",
       "   birth  death  \n",
       "0   1885   1972  \n",
       "1   1885   1972  "
      ]
     },
     "execution_count": 52,
     "metadata": {},
     "output_type": "execute_result"
    }
   ],
   "source": [
    "df_cleanpoems[0:2]"
   ]
  },
  {
   "cell_type": "markdown",
   "metadata": {},
   "source": [
    "**Add word count information**"
   ]
  },
  {
   "cell_type": "code",
   "execution_count": 53,
   "metadata": {},
   "outputs": [
    {
     "data": {
      "text/html": [
       "<div>\n",
       "<style scoped>\n",
       "    .dataframe tbody tr th:only-of-type {\n",
       "        vertical-align: middle;\n",
       "    }\n",
       "\n",
       "    .dataframe tbody tr th {\n",
       "        vertical-align: top;\n",
       "    }\n",
       "\n",
       "    .dataframe thead th {\n",
       "        text-align: right;\n",
       "    }\n",
       "</style>\n",
       "<table border=\"1\" class=\"dataframe\">\n",
       "  <thead>\n",
       "    <tr style=\"text-align: right;\">\n",
       "      <th></th>\n",
       "      <th>url</th>\n",
       "      <th>title</th>\n",
       "      <th>author</th>\n",
       "      <th>simple_url</th>\n",
       "      <th>themes</th>\n",
       "      <th>poem</th>\n",
       "      <th>name</th>\n",
       "      <th>number</th>\n",
       "      <th>birth</th>\n",
       "      <th>death</th>\n",
       "      <th>length</th>\n",
       "    </tr>\n",
       "  </thead>\n",
       "  <tbody>\n",
       "    <tr>\n",
       "      <th>0</th>\n",
       "      <td>http://www.famouspoetsandpoems.com/poets/ezra_...</td>\n",
       "      <td>Cantico del Sole</td>\n",
       "      <td>Ezra Pound</td>\n",
       "      <td>/poets/ezra_pound/poems/18819</td>\n",
       "      <td>NaN</td>\n",
       "      <td>The thought of what America would be like If t...</td>\n",
       "      <td>Ezra Pound</td>\n",
       "      <td>71</td>\n",
       "      <td>1885</td>\n",
       "      <td>1972</td>\n",
       "      <td>91</td>\n",
       "    </tr>\n",
       "    <tr>\n",
       "      <th>1</th>\n",
       "      <td>http://www.famouspoetsandpoems.com/poets/ezra_...</td>\n",
       "      <td>Taking Leave of a Friend</td>\n",
       "      <td>Ezra Pound</td>\n",
       "      <td>/poets/ezra_pound/poems/18808</td>\n",
       "      <td>NaN</td>\n",
       "      <td>Blue mountains to the north of the walls, Whit...</td>\n",
       "      <td>Ezra Pound</td>\n",
       "      <td>71</td>\n",
       "      <td>1885</td>\n",
       "      <td>1972</td>\n",
       "      <td>60</td>\n",
       "    </tr>\n",
       "    <tr>\n",
       "      <th>2</th>\n",
       "      <td>http://www.famouspoetsandpoems.com/poets/ezra_...</td>\n",
       "      <td>These Fought in Any Case</td>\n",
       "      <td>Ezra Pound</td>\n",
       "      <td>/poets/ezra_pound/poems/18827</td>\n",
       "      <td>NaN</td>\n",
       "      <td>These fought in any case, and some believing p...</td>\n",
       "      <td>Ezra Pound</td>\n",
       "      <td>71</td>\n",
       "      <td>1885</td>\n",
       "      <td>1972</td>\n",
       "      <td>97</td>\n",
       "    </tr>\n",
       "  </tbody>\n",
       "</table>\n",
       "</div>"
      ],
      "text/plain": [
       "                                                 url  \\\n",
       "0  http://www.famouspoetsandpoems.com/poets/ezra_...   \n",
       "1  http://www.famouspoetsandpoems.com/poets/ezra_...   \n",
       "2  http://www.famouspoetsandpoems.com/poets/ezra_...   \n",
       "\n",
       "                      title      author                     simple_url themes  \\\n",
       "0          Cantico del Sole  Ezra Pound  /poets/ezra_pound/poems/18819    NaN   \n",
       "1  Taking Leave of a Friend  Ezra Pound  /poets/ezra_pound/poems/18808    NaN   \n",
       "2  These Fought in Any Case  Ezra Pound  /poets/ezra_pound/poems/18827    NaN   \n",
       "\n",
       "                                                poem        name  number  \\\n",
       "0  The thought of what America would be like If t...  Ezra Pound      71   \n",
       "1  Blue mountains to the north of the walls, Whit...  Ezra Pound      71   \n",
       "2  These fought in any case, and some believing p...  Ezra Pound      71   \n",
       "\n",
       "   birth  death  length  \n",
       "0   1885   1972      91  \n",
       "1   1885   1972      60  \n",
       "2   1885   1972      97  "
      ]
     },
     "execution_count": 53,
     "metadata": {},
     "output_type": "execute_result"
    }
   ],
   "source": [
    "df_cleanpoems['length']=df_cleanpoems.poem.apply(lambda x: len(x.split()))\n",
    "df_cleanpoems.head(3)"
   ]
  },
  {
   "cell_type": "markdown",
   "metadata": {},
   "source": [
    "Done!  Let's get rid of the `simple_url` column and the redundant `name` column, then save and exit."
   ]
  },
  {
   "cell_type": "code",
   "execution_count": 54,
   "metadata": {},
   "outputs": [],
   "source": [
    "# delete simplified url columns\n",
    "del df_cleanpoems['simple_url']\n",
    "del df_cleanpoems['name']"
   ]
  },
  {
   "cell_type": "code",
   "execution_count": 55,
   "metadata": {},
   "outputs": [],
   "source": [
    "# save dataframe as both csv and pkl files\n",
    "df_cleanpoems.to_csv(csvdir + '/' + cleanpoems_fname + '.csv',index=False)\n",
    "df_cleanpoems.to_pickle(pkldir + '/' + cleanpoems_fname + '.pkl')"
   ]
  },
  {
   "cell_type": "markdown",
   "metadata": {},
   "source": [
    "One last thing:  we stored theme and date information in files, just in case the program crashed mid-scrape, but we don't need these files anymore.  Let's clean up our mess."
   ]
  },
  {
   "cell_type": "code",
   "execution_count": 56,
   "metadata": {},
   "outputs": [],
   "source": [
    "# eliminate theme file\n",
    "try:\n",
    "    os.remove(themes_fname+'.csv')\n",
    "except OSError:\n",
    "    pass\n",
    "\n",
    "# eliminate years file\n",
    "try:\n",
    "    os.remove(years_fname+'.csv')\n",
    "except OSError:\n",
    "    pass"
   ]
  },
  {
   "cell_type": "code",
   "execution_count": null,
   "metadata": {},
   "outputs": [],
   "source": []
  }
 ],
 "metadata": {
  "kernelspec": {
   "display_name": "Python 3",
   "language": "python",
   "name": "python3"
  },
  "language_info": {
   "codemirror_mode": {
    "name": "ipython",
    "version": 3
   },
   "file_extension": ".py",
   "mimetype": "text/x-python",
   "name": "python",
   "nbconvert_exporter": "python",
   "pygments_lexer": "ipython3",
   "version": "3.6.4"
  }
 },
 "nbformat": 4,
 "nbformat_minor": 2
}
